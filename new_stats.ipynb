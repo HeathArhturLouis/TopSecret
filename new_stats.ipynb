{
  "nbformat": 4,
  "nbformat_minor": 5,
  "metadata": {
    "kernelspec": {
      "display_name": "XAI2",
      "language": "python",
      "name": "xai"
    },
    "language_info": {
      "codemirror_mode": {
        "name": "ipython",
        "version": 3
      },
      "file_extension": ".py",
      "mimetype": "text/x-python",
      "name": "python",
      "nbconvert_exporter": "python",
      "pygments_lexer": "ipython3",
      "version": "3.8.5"
    },
    "colab": {
      "name": "new_stats.ipynb",
      "provenance": [],
      "include_colab_link": true
    }
  },
  "cells": [
    {
      "cell_type": "markdown",
      "metadata": {
        "id": "view-in-github",
        "colab_type": "text"
      },
      "source": [
        "<a href=\"https://colab.research.google.com/github/HeathArhturLouis/TopSecret/blob/main/new_stats.ipynb\" target=\"_parent\"><img src=\"https://colab.research.google.com/assets/colab-badge.svg\" alt=\"Open In Colab\"/></a>"
      ]
    },
    {
      "cell_type": "markdown",
      "metadata": {
        "id": "778eb7ee-ba3c-4a11-af27-b5746d5b507a"
      },
      "source": [
        "# **STATS FOR MY THESIS**\n",
        "\n",
        "*\"Lies, damned lies, and statistics\"*"
      ],
      "id": "778eb7ee-ba3c-4a11-af27-b5746d5b507a"
    },
    {
      "cell_type": "markdown",
      "metadata": {
        "id": "7884fa7c-dc11-4116-a3e3-8cd55dfc8164"
      },
      "source": [
        "### DEPENDENCIES & DATA"
      ],
      "id": "7884fa7c-dc11-4116-a3e3-8cd55dfc8164"
    },
    {
      "cell_type": "code",
      "metadata": {
        "id": "tddi8BnyjfwZ",
        "outputId": "9be696b4-9c3e-4014-ff15-96f7c0b1ba83",
        "colab": {
          "base_uri": "https://localhost:8080/"
        }
      },
      "source": [
        "# RUN THIS IF YOU USE GOOGLE COLAB TO FETCH THE LIBRARY AND REPO DATA\n",
        "!pip install scikit_posthocs\n",
        "!rm -rf ./content/TopSecret \\\n",
        "  && git clone https://github.com/HeathArhturLouis/TopSecret.git"
      ],
      "id": "tddi8BnyjfwZ",
      "execution_count": 49,
      "outputs": [
        {
          "output_type": "stream",
          "text": [
            "Requirement already satisfied: scikit_posthocs in /usr/local/lib/python3.7/dist-packages (0.6.7)\n",
            "Requirement already satisfied: pandas>=0.20.0 in /usr/local/lib/python3.7/dist-packages (from scikit_posthocs) (1.1.5)\n",
            "Requirement already satisfied: scipy in /usr/local/lib/python3.7/dist-packages (from scikit_posthocs) (1.4.1)\n",
            "Requirement already satisfied: seaborn in /usr/local/lib/python3.7/dist-packages (from scikit_posthocs) (0.11.1)\n",
            "Requirement already satisfied: statsmodels in /usr/local/lib/python3.7/dist-packages (from scikit_posthocs) (0.10.2)\n",
            "Requirement already satisfied: numpy in /usr/local/lib/python3.7/dist-packages (from scikit_posthocs) (1.19.5)\n",
            "Requirement already satisfied: matplotlib in /usr/local/lib/python3.7/dist-packages (from scikit_posthocs) (3.2.2)\n",
            "Requirement already satisfied: pytz>=2017.2 in /usr/local/lib/python3.7/dist-packages (from pandas>=0.20.0->scikit_posthocs) (2018.9)\n",
            "Requirement already satisfied: python-dateutil>=2.7.3 in /usr/local/lib/python3.7/dist-packages (from pandas>=0.20.0->scikit_posthocs) (2.8.1)\n",
            "Requirement already satisfied: six>=1.5 in /usr/local/lib/python3.7/dist-packages (from python-dateutil>=2.7.3->pandas>=0.20.0->scikit_posthocs) (1.15.0)\n",
            "Requirement already satisfied: cycler>=0.10 in /usr/local/lib/python3.7/dist-packages (from matplotlib->scikit_posthocs) (0.10.0)\n",
            "Requirement already satisfied: kiwisolver>=1.0.1 in /usr/local/lib/python3.7/dist-packages (from matplotlib->scikit_posthocs) (1.3.1)\n",
            "Requirement already satisfied: pyparsing!=2.0.4,!=2.1.2,!=2.1.6,>=2.0.1 in /usr/local/lib/python3.7/dist-packages (from matplotlib->scikit_posthocs) (2.4.7)\n",
            "Requirement already satisfied: patsy>=0.4.0 in /usr/local/lib/python3.7/dist-packages (from statsmodels->scikit_posthocs) (0.5.1)\n",
            "Cloning into 'TopSecret'...\n",
            "remote: Enumerating objects: 25, done.\u001b[K\n",
            "remote: Counting objects: 100% (25/25), done.\u001b[K\n",
            "remote: Compressing objects: 100% (16/16), done.\u001b[K\n",
            "remote: Total 25 (delta 8), reused 19 (delta 7), pack-reused 0\u001b[K\n",
            "Unpacking objects: 100% (25/25), done.\n"
          ],
          "name": "stdout"
        }
      ]
    },
    {
      "cell_type": "code",
      "metadata": {
        "id": "iEPHqq47f1of",
        "outputId": "636ad290-f16b-4c2f-9475-5ca7ae542691",
        "colab": {
          "base_uri": "https://localhost:8080/"
        }
      },
      "source": [
        "%cd TopSecret/\n",
        "%ls"
      ],
      "id": "iEPHqq47f1of",
      "execution_count": 29,
      "outputs": [
        {
          "output_type": "stream",
          "text": [
            "/content/TopSecret\n",
            "\u001b[0m\u001b[01;34mdata\u001b[0m/  new_stats.ipynb  README.md\n"
          ],
          "name": "stdout"
        }
      ]
    },
    {
      "cell_type": "code",
      "metadata": {
        "id": "eabd9e38-73fe-4361-9a52-6c4157b0b38f"
      },
      "source": [
        "%matplotlib inline\n",
        "\n",
        "# Import packages\n",
        "import numpy as np\n",
        "import pandas as pd\n",
        "import scipy.stats as damned_lies\n",
        "import scikit_posthocs as posthocs\n",
        "from matplotlib import pyplot as plt\n"
      ],
      "id": "eabd9e38-73fe-4361-9a52-6c4157b0b38f",
      "execution_count": 23,
      "outputs": []
    },
    {
      "cell_type": "code",
      "metadata": {
        "id": "QcTA7qrNl3e5"
      },
      "source": [
        "#CONSTANTS\n",
        "\n",
        "# study group id's\n",
        "detection_id = 1\n",
        "feedback_id = 2\n",
        "\n",
        "# study group colors\n",
        "detection_color = '#F6D55C'\n",
        "feedback_color  = '#3CAEA3'"
      ],
      "id": "QcTA7qrNl3e5",
      "execution_count": 52,
      "outputs": []
    },
    {
      "cell_type": "code",
      "metadata": {
        "id": "3ba9fd41-0add-4cd2-a4d4-cfa53fcefee2"
      },
      "source": [
        "# Load data sets from \"csv's\"\n",
        "friedman = pd.read_csv(\"data/Attempts-per-Scenario-Friedman.csv\", delim_whitespace=True)\n",
        "friedman_detection = pd.read_csv(\"data/friedman-detection-model.csv\", delim_whitespace=True)\n",
        "friedman_feedback = pd.read_csv(\"data/friedman-feedback-group.csv\", delim_whitespace=True)\n",
        "\n",
        "wilcoxon = pd.read_csv(\"data/Before-And-After-Correct-Answers-Wilcoxon-Signed-Rank-Test.csv\", delim_whitespace=True)\n",
        "students = pd.read_csv(\"data/Correct-Answers-Postgame-Independent-Sample-T-Test.csv\", delim_whitespace=True)"
      ],
      "id": "3ba9fd41-0add-4cd2-a4d4-cfa53fcefee2",
      "execution_count": 35,
      "outputs": []
    },
    {
      "cell_type": "markdown",
      "metadata": {
        "id": "76f54d05-6d4f-4077-a509-7a32ff5da2cc"
      },
      "source": [
        "### FRIEDMAN\n",
        "*Non parametric test to compare individual question performance*"
      ],
      "id": "76f54d05-6d4f-4077-a509-7a32ff5da2cc"
    },
    {
      "cell_type": "code",
      "metadata": {
        "id": "9fa7df97-019a-4033-a5df-0729094e52d1",
        "outputId": "4ace441f-34f9-4e39-eda5-efe58d2fbfa5",
        "colab": {
          "base_uri": "https://localhost:8080/",
          "height": 638
        }
      },
      "source": [
        "friedman_detection"
      ],
      "id": "9fa7df97-019a-4033-a5df-0729094e52d1",
      "execution_count": 36,
      "outputs": [
        {
          "output_type": "execute_result",
          "data": {
            "text/html": [
              "<div>\n",
              "<style scoped>\n",
              "    .dataframe tbody tr th:only-of-type {\n",
              "        vertical-align: middle;\n",
              "    }\n",
              "\n",
              "    .dataframe tbody tr th {\n",
              "        vertical-align: top;\n",
              "    }\n",
              "\n",
              "    .dataframe thead th {\n",
              "        text-align: right;\n",
              "    }\n",
              "</style>\n",
              "<table border=\"1\" class=\"dataframe\">\n",
              "  <thead>\n",
              "    <tr style=\"text-align: right;\">\n",
              "      <th></th>\n",
              "      <th>UserId</th>\n",
              "      <th>StudyGroupId</th>\n",
              "      <th>Scenario1</th>\n",
              "      <th>Scenario2</th>\n",
              "      <th>Scenario3</th>\n",
              "      <th>Scenario4</th>\n",
              "      <th>Scenario5</th>\n",
              "      <th>Scenario6</th>\n",
              "      <th>Scenario7</th>\n",
              "      <th>Scenario8</th>\n",
              "    </tr>\n",
              "  </thead>\n",
              "  <tbody>\n",
              "    <tr>\n",
              "      <th>0</th>\n",
              "      <td>44791A1C-70BC-487F-857D-09931E01239E</td>\n",
              "      <td>1</td>\n",
              "      <td>1</td>\n",
              "      <td>2</td>\n",
              "      <td>2</td>\n",
              "      <td>2</td>\n",
              "      <td>1</td>\n",
              "      <td>1</td>\n",
              "      <td>1</td>\n",
              "      <td>1</td>\n",
              "    </tr>\n",
              "    <tr>\n",
              "      <th>1</th>\n",
              "      <td>D3A563F1-49D5-48AC-A438-2E8DC03FA00C</td>\n",
              "      <td>1</td>\n",
              "      <td>1</td>\n",
              "      <td>2</td>\n",
              "      <td>1</td>\n",
              "      <td>1</td>\n",
              "      <td>1</td>\n",
              "      <td>2</td>\n",
              "      <td>1</td>\n",
              "      <td>2</td>\n",
              "    </tr>\n",
              "    <tr>\n",
              "      <th>2</th>\n",
              "      <td>86767E70-DDBB-4B8F-807B-4A9057CAEFC6</td>\n",
              "      <td>1</td>\n",
              "      <td>1</td>\n",
              "      <td>1</td>\n",
              "      <td>1</td>\n",
              "      <td>1</td>\n",
              "      <td>1</td>\n",
              "      <td>1</td>\n",
              "      <td>1</td>\n",
              "      <td>1</td>\n",
              "    </tr>\n",
              "    <tr>\n",
              "      <th>3</th>\n",
              "      <td>0BDC9E45-26DE-42D6-AE95-4E5E6CDBFFE8</td>\n",
              "      <td>1</td>\n",
              "      <td>1</td>\n",
              "      <td>1</td>\n",
              "      <td>2</td>\n",
              "      <td>1</td>\n",
              "      <td>1</td>\n",
              "      <td>1</td>\n",
              "      <td>1</td>\n",
              "      <td>1</td>\n",
              "    </tr>\n",
              "    <tr>\n",
              "      <th>4</th>\n",
              "      <td>0075A8B0-3CA3-48FC-B66D-4E645F59A044</td>\n",
              "      <td>1</td>\n",
              "      <td>1</td>\n",
              "      <td>1</td>\n",
              "      <td>1</td>\n",
              "      <td>1</td>\n",
              "      <td>1</td>\n",
              "      <td>1</td>\n",
              "      <td>1</td>\n",
              "      <td>1</td>\n",
              "    </tr>\n",
              "    <tr>\n",
              "      <th>5</th>\n",
              "      <td>33AFBA48-79BC-441B-A6E5-555DFDDA9EE2</td>\n",
              "      <td>1</td>\n",
              "      <td>1</td>\n",
              "      <td>1</td>\n",
              "      <td>1</td>\n",
              "      <td>1</td>\n",
              "      <td>1</td>\n",
              "      <td>1</td>\n",
              "      <td>1</td>\n",
              "      <td>3</td>\n",
              "    </tr>\n",
              "    <tr>\n",
              "      <th>6</th>\n",
              "      <td>E6A6D715-9FA1-4504-9425-697466ABC7C4</td>\n",
              "      <td>1</td>\n",
              "      <td>2</td>\n",
              "      <td>1</td>\n",
              "      <td>2</td>\n",
              "      <td>1</td>\n",
              "      <td>1</td>\n",
              "      <td>2</td>\n",
              "      <td>1</td>\n",
              "      <td>3</td>\n",
              "    </tr>\n",
              "    <tr>\n",
              "      <th>7</th>\n",
              "      <td>10E07795-6E1C-4DAA-998E-6C5055C8BCDA</td>\n",
              "      <td>1</td>\n",
              "      <td>1</td>\n",
              "      <td>1</td>\n",
              "      <td>1</td>\n",
              "      <td>1</td>\n",
              "      <td>1</td>\n",
              "      <td>1</td>\n",
              "      <td>1</td>\n",
              "      <td>1</td>\n",
              "    </tr>\n",
              "    <tr>\n",
              "      <th>8</th>\n",
              "      <td>B16B1E41-BDFD-4966-8B9D-7513FD114C92</td>\n",
              "      <td>1</td>\n",
              "      <td>1</td>\n",
              "      <td>1</td>\n",
              "      <td>2</td>\n",
              "      <td>1</td>\n",
              "      <td>1</td>\n",
              "      <td>1</td>\n",
              "      <td>1</td>\n",
              "      <td>3</td>\n",
              "    </tr>\n",
              "    <tr>\n",
              "      <th>9</th>\n",
              "      <td>42FD1FDD-5E76-4BC8-B9FF-B18ADFD20BD4</td>\n",
              "      <td>1</td>\n",
              "      <td>1</td>\n",
              "      <td>1</td>\n",
              "      <td>1</td>\n",
              "      <td>1</td>\n",
              "      <td>1</td>\n",
              "      <td>1</td>\n",
              "      <td>1</td>\n",
              "      <td>2</td>\n",
              "    </tr>\n",
              "    <tr>\n",
              "      <th>10</th>\n",
              "      <td>771C4071-311B-4E03-95A1-B44DAC60A5DB</td>\n",
              "      <td>1</td>\n",
              "      <td>1</td>\n",
              "      <td>1</td>\n",
              "      <td>1</td>\n",
              "      <td>1</td>\n",
              "      <td>1</td>\n",
              "      <td>1</td>\n",
              "      <td>1</td>\n",
              "      <td>1</td>\n",
              "    </tr>\n",
              "    <tr>\n",
              "      <th>11</th>\n",
              "      <td>2A5E8609-81F2-424E-B01F-B7AC5B8A4F39</td>\n",
              "      <td>1</td>\n",
              "      <td>1</td>\n",
              "      <td>1</td>\n",
              "      <td>1</td>\n",
              "      <td>2</td>\n",
              "      <td>1</td>\n",
              "      <td>2</td>\n",
              "      <td>1</td>\n",
              "      <td>1</td>\n",
              "    </tr>\n",
              "    <tr>\n",
              "      <th>12</th>\n",
              "      <td>BF16631F-1E70-4791-AF9A-BA41067F65D2</td>\n",
              "      <td>1</td>\n",
              "      <td>1</td>\n",
              "      <td>1</td>\n",
              "      <td>2</td>\n",
              "      <td>1</td>\n",
              "      <td>1</td>\n",
              "      <td>1</td>\n",
              "      <td>1</td>\n",
              "      <td>3</td>\n",
              "    </tr>\n",
              "    <tr>\n",
              "      <th>13</th>\n",
              "      <td>DE35FFFC-D67B-4CB4-A2CF-BEB3358E2FB3</td>\n",
              "      <td>1</td>\n",
              "      <td>1</td>\n",
              "      <td>1</td>\n",
              "      <td>2</td>\n",
              "      <td>1</td>\n",
              "      <td>1</td>\n",
              "      <td>1</td>\n",
              "      <td>1</td>\n",
              "      <td>1</td>\n",
              "    </tr>\n",
              "    <tr>\n",
              "      <th>14</th>\n",
              "      <td>C1A5E8EF-976A-484E-929D-C211FA94DF1E</td>\n",
              "      <td>1</td>\n",
              "      <td>2</td>\n",
              "      <td>1</td>\n",
              "      <td>2</td>\n",
              "      <td>2</td>\n",
              "      <td>1</td>\n",
              "      <td>1</td>\n",
              "      <td>1</td>\n",
              "      <td>1</td>\n",
              "    </tr>\n",
              "    <tr>\n",
              "      <th>15</th>\n",
              "      <td>E444631B-D60D-4A40-90BF-D5CAD238F849</td>\n",
              "      <td>1</td>\n",
              "      <td>1</td>\n",
              "      <td>2</td>\n",
              "      <td>2</td>\n",
              "      <td>1</td>\n",
              "      <td>1</td>\n",
              "      <td>1</td>\n",
              "      <td>1</td>\n",
              "      <td>2</td>\n",
              "    </tr>\n",
              "    <tr>\n",
              "      <th>16</th>\n",
              "      <td>5595AE42-9FCB-4F02-A069-DCB42B8DD50A</td>\n",
              "      <td>1</td>\n",
              "      <td>1</td>\n",
              "      <td>1</td>\n",
              "      <td>2</td>\n",
              "      <td>2</td>\n",
              "      <td>1</td>\n",
              "      <td>1</td>\n",
              "      <td>1</td>\n",
              "      <td>1</td>\n",
              "    </tr>\n",
              "    <tr>\n",
              "      <th>17</th>\n",
              "      <td>336C916D-70E3-449B-A21B-E2B143F8B505</td>\n",
              "      <td>1</td>\n",
              "      <td>1</td>\n",
              "      <td>2</td>\n",
              "      <td>1</td>\n",
              "      <td>1</td>\n",
              "      <td>2</td>\n",
              "      <td>2</td>\n",
              "      <td>1</td>\n",
              "      <td>1</td>\n",
              "    </tr>\n",
              "    <tr>\n",
              "      <th>18</th>\n",
              "      <td>D785C2BE-831E-4B72-AAB0-FAB484C1BBD7</td>\n",
              "      <td>1</td>\n",
              "      <td>2</td>\n",
              "      <td>1</td>\n",
              "      <td>1</td>\n",
              "      <td>1</td>\n",
              "      <td>1</td>\n",
              "      <td>1</td>\n",
              "      <td>1</td>\n",
              "      <td>1</td>\n",
              "    </tr>\n",
              "  </tbody>\n",
              "</table>\n",
              "</div>"
            ],
            "text/plain": [
              "                                  UserId  StudyGroupId  ...  Scenario7  Scenario8\n",
              "0   44791A1C-70BC-487F-857D-09931E01239E             1  ...          1          1\n",
              "1   D3A563F1-49D5-48AC-A438-2E8DC03FA00C             1  ...          1          2\n",
              "2   86767E70-DDBB-4B8F-807B-4A9057CAEFC6             1  ...          1          1\n",
              "3   0BDC9E45-26DE-42D6-AE95-4E5E6CDBFFE8             1  ...          1          1\n",
              "4   0075A8B0-3CA3-48FC-B66D-4E645F59A044             1  ...          1          1\n",
              "5   33AFBA48-79BC-441B-A6E5-555DFDDA9EE2             1  ...          1          3\n",
              "6   E6A6D715-9FA1-4504-9425-697466ABC7C4             1  ...          1          3\n",
              "7   10E07795-6E1C-4DAA-998E-6C5055C8BCDA             1  ...          1          1\n",
              "8   B16B1E41-BDFD-4966-8B9D-7513FD114C92             1  ...          1          3\n",
              "9   42FD1FDD-5E76-4BC8-B9FF-B18ADFD20BD4             1  ...          1          2\n",
              "10  771C4071-311B-4E03-95A1-B44DAC60A5DB             1  ...          1          1\n",
              "11  2A5E8609-81F2-424E-B01F-B7AC5B8A4F39             1  ...          1          1\n",
              "12  BF16631F-1E70-4791-AF9A-BA41067F65D2             1  ...          1          3\n",
              "13  DE35FFFC-D67B-4CB4-A2CF-BEB3358E2FB3             1  ...          1          1\n",
              "14  C1A5E8EF-976A-484E-929D-C211FA94DF1E             1  ...          1          1\n",
              "15  E444631B-D60D-4A40-90BF-D5CAD238F849             1  ...          1          2\n",
              "16  5595AE42-9FCB-4F02-A069-DCB42B8DD50A             1  ...          1          1\n",
              "17  336C916D-70E3-449B-A21B-E2B143F8B505             1  ...          1          1\n",
              "18  D785C2BE-831E-4B72-AAB0-FAB484C1BBD7             1  ...          1          1\n",
              "\n",
              "[19 rows x 10 columns]"
            ]
          },
          "metadata": {
            "tags": []
          },
          "execution_count": 36
        }
      ]
    },
    {
      "cell_type": "code",
      "metadata": {
        "id": "b83083c3-cf3b-45d6-8dc6-e1813435bb87",
        "outputId": "db422a0c-a721-479a-9e71-0f79552c167e",
        "colab": {
          "base_uri": "https://localhost:8080/"
        }
      },
      "source": [
        "# FRIEDMAN FOR BOTH GROUPS\n",
        "# NULL HYPOTHESIS: Median performance of problem scenarios are all the same\n",
        "damned_lies.friedmanchisquare(*np.transpose(friedman.values)[1:])"
      ],
      "id": "b83083c3-cf3b-45d6-8dc6-e1813435bb87",
      "execution_count": 38,
      "outputs": [
        {
          "output_type": "execute_result",
          "data": {
            "text/plain": [
              "FriedmanchisquareResult(statistic=33.05735805330244, pvalue=2.583291815262756e-05)"
            ]
          },
          "metadata": {
            "tags": []
          },
          "execution_count": 38
        }
      ]
    },
    {
      "cell_type": "code",
      "metadata": {
        "id": "1e3e4866-369e-47db-a02e-f340063033eb",
        "outputId": "645f41c5-e17a-41ad-d178-fc6eed22e46b",
        "colab": {
          "base_uri": "https://localhost:8080/"
        }
      },
      "source": [
        "# FRIEDMAN FOR DETECTION MODEL\n",
        "# NULL HYPOTHESIS: Median performance of problem scenarios are all the same\n",
        "damned_lies.friedmanchisquare(*np.transpose(friedman_detection.values)[2:])"
      ],
      "id": "1e3e4866-369e-47db-a02e-f340063033eb",
      "execution_count": 39,
      "outputs": [
        {
          "output_type": "execute_result",
          "data": {
            "text/plain": [
              "FriedmanchisquareResult(statistic=19.349431818181692, pvalue=0.007160380493263334)"
            ]
          },
          "metadata": {
            "tags": []
          },
          "execution_count": 39
        }
      ]
    },
    {
      "cell_type": "code",
      "metadata": {
        "id": "490aea35-8436-4bb7-a455-2057b542f09c",
        "outputId": "ed3655dc-67b5-4ea1-a8df-6c6a00c3ff6c",
        "colab": {
          "base_uri": "https://localhost:8080/",
          "height": 324
        }
      },
      "source": [
        "plt.bar(\n",
        "    range(8),\n",
        "    [np.mean(a) for a in np.transpose(friedman_detection.values)[2:]],\n",
        "    yerr=[np.std(a) for a in np.transpose(friedman_detection.values)[2:]],\n",
        "    tick_label=['Scenario ' + str(i + 1) for i in range(8)],\n",
        "    color=detection_color,\n",
        "    ecolor='#AA1111')\n",
        "\n",
        "plt.title(\"Mean performance by scenario for detection group.\")\n",
        "plt.ylabel('Correct responses (out of 5)')\n",
        "plt.xticks(rotation=90)\n",
        "plt.show()"
      ],
      "id": "490aea35-8436-4bb7-a455-2057b542f09c",
      "execution_count": 53,
      "outputs": [
        {
          "output_type": "display_data",
          "data": {
            "image/png": "[encoded data removed]",
            "text/plain": [
              "<Figure size 432x288 with 1 Axes>"
            ]
          },
          "metadata": {
            "tags": [],
            "needs_background": "light"
          }
        }
      ]
    },
    {
      "cell_type": "code",
      "metadata": {
        "id": "a005a1ee-bb77-4cbb-89be-6bc63d7dce38",
        "outputId": "9cb638c4-34c0-4f4a-c114-3bfbefa2ec3c",
        "colab": {
          "base_uri": "https://localhost:8080/"
        }
      },
      "source": [
        "# FRIEDMAN FOR FEEDBACK GROUP\n",
        "# NULL HYPOTHESIS: Median performance of problem scenarios are all the same\n",
        "damned_lies.friedmanchisquare(*np.transpose(friedman_feedback.values)[2:])"
      ],
      "id": "a005a1ee-bb77-4cbb-89be-6bc63d7dce38",
      "execution_count": 41,
      "outputs": [
        {
          "output_type": "execute_result",
          "data": {
            "text/plain": [
              "FriedmanchisquareResult(statistic=42.684931506849196, pvalue=3.8369691993606476e-07)"
            ]
          },
          "metadata": {
            "tags": []
          },
          "execution_count": 41
        }
      ]
    },
    {
      "cell_type": "code",
      "metadata": {
        "id": "cc43aacd-5116-4896-a377-9ddaecac7e66",
        "outputId": "0e6e3a0f-d7db-4cf7-bffa-3c5669ca7b68",
        "colab": {
          "base_uri": "https://localhost:8080/",
          "height": 324
        }
      },
      "source": [
        "plt.bar(\n",
        "    range(8),\n",
        "    [np.mean(a) for a in np.transpose(friedman_feedback.values)[2:]],\n",
        "    yerr=[np.std(a) for a in np.transpose(friedman_feedback.values)[2:]],\n",
        "    tick_label=['Scenario ' + str(i + 1) for i in range(8)],\n",
        "    color='#3CAEA3',\n",
        "    ecolor='#AA1111')\n",
        "\n",
        "plt.title(\"Mean performance by scenario for feedback group.\")\n",
        "plt.ylabel('Correct responses (out of 5)')\n",
        "plt.xticks(rotation=90)\n",
        "plt.show()"
      ],
      "id": "cc43aacd-5116-4896-a377-9ddaecac7e66",
      "execution_count": 42,
      "outputs": [
        {
          "output_type": "display_data",
          "data": {
            "image/png": "[encoded data removed]",
            "text/plain": [
              "<Figure size 432x288 with 1 Axes>"
            ]
          },
          "metadata": {
            "tags": [],
            "needs_background": "light"
          }
        }
      ]
    },
    {
      "cell_type": "markdown",
      "metadata": {
        "id": "60dd016e-0ffa-4992-a1c9-b9688c7ac383"
      },
      "source": [
        "**Sucessfully rejected the null hypothesis in both cases, apply**\n",
        "**pairwise comparisons using Nemenyi post hoc test**"
      ],
      "id": "60dd016e-0ffa-4992-a1c9-b9688c7ac383"
    },
    {
      "cell_type": "code",
      "metadata": {
        "id": "aa2d08a6-9893-4834-b6e1-cb27117bdb57",
        "outputId": "e2396a96-2590-49e5-ed11-08964465feb3",
        "colab": {
          "base_uri": "https://localhost:8080/",
          "height": 297
        }
      },
      "source": [
        "# DETECTION MODEL\n",
        "posthocs.posthoc_nemenyi_friedman(friedman_detection.drop(['UserId', 'StudyGroupId'], axis=1))"
      ],
      "id": "aa2d08a6-9893-4834-b6e1-cb27117bdb57",
      "execution_count": 43,
      "outputs": [
        {
          "output_type": "execute_result",
          "data": {
            "text/html": [
              "<div>\n",
              "<style scoped>\n",
              "    .dataframe tbody tr th:only-of-type {\n",
              "        vertical-align: middle;\n",
              "    }\n",
              "\n",
              "    .dataframe tbody tr th {\n",
              "        vertical-align: top;\n",
              "    }\n",
              "\n",
              "    .dataframe thead th {\n",
              "        text-align: right;\n",
              "    }\n",
              "</style>\n",
              "<table border=\"1\" class=\"dataframe\">\n",
              "  <thead>\n",
              "    <tr style=\"text-align: right;\">\n",
              "      <th></th>\n",
              "      <th>Scenario1</th>\n",
              "      <th>Scenario2</th>\n",
              "      <th>Scenario3</th>\n",
              "      <th>Scenario4</th>\n",
              "      <th>Scenario5</th>\n",
              "      <th>Scenario6</th>\n",
              "      <th>Scenario7</th>\n",
              "      <th>Scenario8</th>\n",
              "    </tr>\n",
              "  </thead>\n",
              "  <tbody>\n",
              "    <tr>\n",
              "      <th>Scenario1</th>\n",
              "      <td>1.000000</td>\n",
              "      <td>0.9</td>\n",
              "      <td>0.768777</td>\n",
              "      <td>0.9</td>\n",
              "      <td>0.900000</td>\n",
              "      <td>0.9</td>\n",
              "      <td>0.900000</td>\n",
              "      <td>0.900000</td>\n",
              "    </tr>\n",
              "    <tr>\n",
              "      <th>Scenario2</th>\n",
              "      <td>0.900000</td>\n",
              "      <td>1.0</td>\n",
              "      <td>0.900000</td>\n",
              "      <td>0.9</td>\n",
              "      <td>0.900000</td>\n",
              "      <td>0.9</td>\n",
              "      <td>0.900000</td>\n",
              "      <td>0.900000</td>\n",
              "    </tr>\n",
              "    <tr>\n",
              "      <th>Scenario3</th>\n",
              "      <td>0.768777</td>\n",
              "      <td>0.9</td>\n",
              "      <td>1.000000</td>\n",
              "      <td>0.9</td>\n",
              "      <td>0.470039</td>\n",
              "      <td>0.9</td>\n",
              "      <td>0.301991</td>\n",
              "      <td>0.900000</td>\n",
              "    </tr>\n",
              "    <tr>\n",
              "      <th>Scenario4</th>\n",
              "      <td>0.900000</td>\n",
              "      <td>0.9</td>\n",
              "      <td>0.900000</td>\n",
              "      <td>1.0</td>\n",
              "      <td>0.900000</td>\n",
              "      <td>0.9</td>\n",
              "      <td>0.900000</td>\n",
              "      <td>0.900000</td>\n",
              "    </tr>\n",
              "    <tr>\n",
              "      <th>Scenario5</th>\n",
              "      <td>0.900000</td>\n",
              "      <td>0.9</td>\n",
              "      <td>0.470039</td>\n",
              "      <td>0.9</td>\n",
              "      <td>1.000000</td>\n",
              "      <td>0.9</td>\n",
              "      <td>0.900000</td>\n",
              "      <td>0.630197</td>\n",
              "    </tr>\n",
              "    <tr>\n",
              "      <th>Scenario6</th>\n",
              "      <td>0.900000</td>\n",
              "      <td>0.9</td>\n",
              "      <td>0.900000</td>\n",
              "      <td>0.9</td>\n",
              "      <td>0.900000</td>\n",
              "      <td>1.0</td>\n",
              "      <td>0.900000</td>\n",
              "      <td>0.900000</td>\n",
              "    </tr>\n",
              "    <tr>\n",
              "      <th>Scenario7</th>\n",
              "      <td>0.900000</td>\n",
              "      <td>0.9</td>\n",
              "      <td>0.301991</td>\n",
              "      <td>0.9</td>\n",
              "      <td>0.900000</td>\n",
              "      <td>0.9</td>\n",
              "      <td>1.000000</td>\n",
              "      <td>0.470039</td>\n",
              "    </tr>\n",
              "    <tr>\n",
              "      <th>Scenario8</th>\n",
              "      <td>0.900000</td>\n",
              "      <td>0.9</td>\n",
              "      <td>0.900000</td>\n",
              "      <td>0.9</td>\n",
              "      <td>0.630197</td>\n",
              "      <td>0.9</td>\n",
              "      <td>0.470039</td>\n",
              "      <td>1.000000</td>\n",
              "    </tr>\n",
              "  </tbody>\n",
              "</table>\n",
              "</div>"
            ],
            "text/plain": [
              "           Scenario1  Scenario2  Scenario3  ...  Scenario6  Scenario7  Scenario8\n",
              "Scenario1   1.000000        0.9   0.768777  ...        0.9   0.900000   0.900000\n",
              "Scenario2   0.900000        1.0   0.900000  ...        0.9   0.900000   0.900000\n",
              "Scenario3   0.768777        0.9   1.000000  ...        0.9   0.301991   0.900000\n",
              "Scenario4   0.900000        0.9   0.900000  ...        0.9   0.900000   0.900000\n",
              "Scenario5   0.900000        0.9   0.470039  ...        0.9   0.900000   0.630197\n",
              "Scenario6   0.900000        0.9   0.900000  ...        1.0   0.900000   0.900000\n",
              "Scenario7   0.900000        0.9   0.301991  ...        0.9   1.000000   0.470039\n",
              "Scenario8   0.900000        0.9   0.900000  ...        0.9   0.470039   1.000000\n",
              "\n",
              "[8 rows x 8 columns]"
            ]
          },
          "metadata": {
            "tags": []
          },
          "execution_count": 43
        }
      ]
    },
    {
      "cell_type": "code",
      "metadata": {
        "id": "a4a1c960-1117-4bb5-b3ed-3ddee3ac7425",
        "outputId": "66579405-02be-49ee-c3ea-55e1c4c8ccd5",
        "colab": {
          "base_uri": "https://localhost:8080/",
          "height": 297
        }
      },
      "source": [
        "# FEEDBACK GROUP\n",
        "posthocs.posthoc_nemenyi_friedman(friedman_feedback.drop(['UserId', 'StudyGroupId'], axis=1))"
      ],
      "id": "a4a1c960-1117-4bb5-b3ed-3ddee3ac7425",
      "execution_count": 44,
      "outputs": [
        {
          "output_type": "execute_result",
          "data": {
            "text/html": [
              "<div>\n",
              "<style scoped>\n",
              "    .dataframe tbody tr th:only-of-type {\n",
              "        vertical-align: middle;\n",
              "    }\n",
              "\n",
              "    .dataframe tbody tr th {\n",
              "        vertical-align: top;\n",
              "    }\n",
              "\n",
              "    .dataframe thead th {\n",
              "        text-align: right;\n",
              "    }\n",
              "</style>\n",
              "<table border=\"1\" class=\"dataframe\">\n",
              "  <thead>\n",
              "    <tr style=\"text-align: right;\">\n",
              "      <th></th>\n",
              "      <th>Scenario1</th>\n",
              "      <th>Scenario2</th>\n",
              "      <th>Scenario3</th>\n",
              "      <th>Scenario4</th>\n",
              "      <th>Scenario5</th>\n",
              "      <th>Scenario6</th>\n",
              "      <th>Scenario7</th>\n",
              "      <th>Scenario8</th>\n",
              "    </tr>\n",
              "  </thead>\n",
              "  <tbody>\n",
              "    <tr>\n",
              "      <th>Scenario1</th>\n",
              "      <td>1.000000</td>\n",
              "      <td>0.900000</td>\n",
              "      <td>0.900000</td>\n",
              "      <td>0.900000</td>\n",
              "      <td>0.118189</td>\n",
              "      <td>0.570804</td>\n",
              "      <td>0.900000</td>\n",
              "      <td>0.900000</td>\n",
              "    </tr>\n",
              "    <tr>\n",
              "      <th>Scenario2</th>\n",
              "      <td>0.900000</td>\n",
              "      <td>1.000000</td>\n",
              "      <td>0.900000</td>\n",
              "      <td>0.900000</td>\n",
              "      <td>0.174998</td>\n",
              "      <td>0.470039</td>\n",
              "      <td>0.900000</td>\n",
              "      <td>0.900000</td>\n",
              "    </tr>\n",
              "    <tr>\n",
              "      <th>Scenario3</th>\n",
              "      <td>0.900000</td>\n",
              "      <td>0.900000</td>\n",
              "      <td>1.000000</td>\n",
              "      <td>0.900000</td>\n",
              "      <td>0.788576</td>\n",
              "      <td>0.043333</td>\n",
              "      <td>0.404639</td>\n",
              "      <td>0.709385</td>\n",
              "    </tr>\n",
              "    <tr>\n",
              "      <th>Scenario4</th>\n",
              "      <td>0.900000</td>\n",
              "      <td>0.900000</td>\n",
              "      <td>0.900000</td>\n",
              "      <td>1.000000</td>\n",
              "      <td>0.590602</td>\n",
              "      <td>0.108545</td>\n",
              "      <td>0.610400</td>\n",
              "      <td>0.900000</td>\n",
              "    </tr>\n",
              "    <tr>\n",
              "      <th>Scenario5</th>\n",
              "      <td>0.118189</td>\n",
              "      <td>0.174998</td>\n",
              "      <td>0.788576</td>\n",
              "      <td>0.590602</td>\n",
              "      <td>1.000000</td>\n",
              "      <td>0.001000</td>\n",
              "      <td>0.007416</td>\n",
              "      <td>0.039221</td>\n",
              "    </tr>\n",
              "    <tr>\n",
              "      <th>Scenario6</th>\n",
              "      <td>0.570804</td>\n",
              "      <td>0.470039</td>\n",
              "      <td>0.043333</td>\n",
              "      <td>0.108545</td>\n",
              "      <td>0.001000</td>\n",
              "      <td>1.000000</td>\n",
              "      <td>0.900000</td>\n",
              "      <td>0.808373</td>\n",
              "    </tr>\n",
              "    <tr>\n",
              "      <th>Scenario7</th>\n",
              "      <td>0.900000</td>\n",
              "      <td>0.900000</td>\n",
              "      <td>0.404639</td>\n",
              "      <td>0.610400</td>\n",
              "      <td>0.007416</td>\n",
              "      <td>0.900000</td>\n",
              "      <td>1.000000</td>\n",
              "      <td>0.900000</td>\n",
              "    </tr>\n",
              "    <tr>\n",
              "      <th>Scenario8</th>\n",
              "      <td>0.900000</td>\n",
              "      <td>0.900000</td>\n",
              "      <td>0.709385</td>\n",
              "      <td>0.900000</td>\n",
              "      <td>0.039221</td>\n",
              "      <td>0.808373</td>\n",
              "      <td>0.900000</td>\n",
              "      <td>1.000000</td>\n",
              "    </tr>\n",
              "  </tbody>\n",
              "</table>\n",
              "</div>"
            ],
            "text/plain": [
              "           Scenario1  Scenario2  Scenario3  ...  Scenario6  Scenario7  Scenario8\n",
              "Scenario1   1.000000   0.900000   0.900000  ...   0.570804   0.900000   0.900000\n",
              "Scenario2   0.900000   1.000000   0.900000  ...   0.470039   0.900000   0.900000\n",
              "Scenario3   0.900000   0.900000   1.000000  ...   0.043333   0.404639   0.709385\n",
              "Scenario4   0.900000   0.900000   0.900000  ...   0.108545   0.610400   0.900000\n",
              "Scenario5   0.118189   0.174998   0.788576  ...   0.001000   0.007416   0.039221\n",
              "Scenario6   0.570804   0.470039   0.043333  ...   1.000000   0.900000   0.808373\n",
              "Scenario7   0.900000   0.900000   0.404639  ...   0.900000   1.000000   0.900000\n",
              "Scenario8   0.900000   0.900000   0.709385  ...   0.808373   0.900000   1.000000\n",
              "\n",
              "[8 rows x 8 columns]"
            ]
          },
          "metadata": {
            "tags": []
          },
          "execution_count": 44
        }
      ]
    },
    {
      "cell_type": "markdown",
      "metadata": {
        "id": "9ebe0679-b689-4fcd-b29b-9958ddeb0dfa"
      },
      "source": [
        "### UNPAIRED T-TEST\n",
        "*H_0: There is a significant difference in performance between groups 1 and 2*"
      ],
      "id": "9ebe0679-b689-4fcd-b29b-9958ddeb0dfa"
    },
    {
      "cell_type": "code",
      "metadata": {
        "id": "92762e26-61e0-4d65-8b8a-e5a0c9a68c19",
        "outputId": "5f991a67-cffe-4e47-b7a7-6ab45c88438f",
        "colab": {
          "base_uri": "https://localhost:8080/"
        }
      },
      "source": [
        "# Failed to reject H_0 --> We cannot conclude there is a difference in means of the two populations\n",
        "group1 = students[students[\"StudyGroupId\"] == detection_id][\"CorrectAnswersCount\"]\n",
        "group2 = students[students[\"StudyGroupId\"] == feedback_id][\"CorrectAnswersCount\"]\n",
        "\n",
        "damned_lies.ttest_ind(group1, group2)"
      ],
      "id": "92762e26-61e0-4d65-8b8a-e5a0c9a68c19",
      "execution_count": 45,
      "outputs": [
        {
          "output_type": "execute_result",
          "data": {
            "text/plain": [
              "Ttest_indResult(statistic=1.3005442373195382, pvalue=0.20167873671208875)"
            ]
          },
          "metadata": {
            "tags": []
          },
          "execution_count": 45
        }
      ]
    },
    {
      "cell_type": "code",
      "metadata": {
        "id": "105c147e-6702-4632-931d-4af0019b9312",
        "outputId": "1a39b772-6c7d-4d22-944d-a652fca98c7e",
        "colab": {
          "base_uri": "https://localhost:8080/",
          "height": 281
        }
      },
      "source": [
        "plt.bar(\n",
        "    [0, 1],\n",
        "    [np.mean(group1), np.mean(group2)],\n",
        "    color=[detection_color, feedback_color],\n",
        "    yerr=[np.std(group1), np.std(group2)],\n",
        "    tick_label=['Group 1','Group 2'],\n",
        "    ecolor='#AA1111')\n",
        "\n",
        "plt.title(\"Mean performance by group.\")\n",
        "plt.ylabel('Correct responses (out of 5)')\n",
        "plt.show()"
      ],
      "id": "105c147e-6702-4632-931d-4af0019b9312",
      "execution_count": 51,
      "outputs": [
        {
          "output_type": "display_data",
          "data": {
            "image/png": "[encoded data removed]",
            "text/plain": [
              "<Figure size 432x288 with 1 Axes>"
            ]
          },
          "metadata": {
            "tags": [],
            "needs_background": "light"
          }
        }
      ]
    },
    {
      "cell_type": "markdown",
      "metadata": {
        "id": "dc778aa6-8370-4bce-a0bf-d0dd4c8be676"
      },
      "source": [
        "### WILCOXON RANK\n",
        "*Determine weather game has significantly affected an individuals performance on questions*\n",
        "\n",
        "\n",
        "*H_0: There is no significant different between populations*"
      ],
      "id": "dc778aa6-8370-4bce-a0bf-d0dd4c8be676"
    },
    {
      "cell_type": "code",
      "metadata": {
        "id": "b05cb4b4-65b3-45e3-938e-d94d62760deb",
        "outputId": "6f19bdea-9a00-44f5-a114-b11c41004705",
        "colab": {
          "base_uri": "https://localhost:8080/"
        }
      },
      "source": [
        "# Sucesfully rejected H_0 ---> There appears to be a significant difference between the two populations\n",
        "\n",
        "damned_lies.wilcoxon(wilcoxon[\"Baseline\"], wilcoxon[\"Postgame\"])"
      ],
      "id": "b05cb4b4-65b3-45e3-938e-d94d62760deb",
      "execution_count": 47,
      "outputs": [
        {
          "output_type": "execute_result",
          "data": {
            "text/plain": [
              "WilcoxonResult(statistic=87.0, pvalue=0.0002624666422454448)"
            ]
          },
          "metadata": {
            "tags": []
          },
          "execution_count": 47
        }
      ]
    },
    {
      "cell_type": "code",
      "metadata": {
        "id": "96bc0255-2b09-4484-a553-de2c3cd7585b",
        "outputId": "7a239df8-8206-4df4-b1d0-3cacfaba0355",
        "colab": {
          "base_uri": "https://localhost:8080/",
          "height": 281
        }
      },
      "source": [
        "plt.bar(\n",
        "    [0, 1],\n",
        "    [np.mean(wilcoxon[\"Baseline\"]), np.mean(wilcoxon[\"Postgame\"])],\n",
        "    color=['#3CAEA3','#F6D55C'],\n",
        "    yerr=[np.std(a) for a in [wilcoxon[\"Baseline\"], wilcoxon[\"Postgame\"]]],\n",
        "    tick_label=['Baseline','Post-Game'],\n",
        "    ecolor='#AA1111')\n",
        "\n",
        "plt.title(\"Mean performance before and after game (with std error).\")\n",
        "plt.ylabel('Correct responses (out of 5)')\n",
        "plt.show()"
      ],
      "id": "96bc0255-2b09-4484-a553-de2c3cd7585b",
      "execution_count": 48,
      "outputs": [
        {
          "output_type": "display_data",
          "data": {
            "image/png": "[encoded data removed]",
            "text/plain": [
              "<Figure size 432x288 with 1 Axes>"
            ]
          },
          "metadata": {
            "tags": [],
            "needs_background": "light"
          }
        }
      ]
    },
    {
      "cell_type": "code",
      "metadata": {
        "id": "XuXYZhPtnbUQ",
        "outputId": "be3a9a17-4699-4ebd-a44c-fe020f268929",
        "colab": {
          "base_uri": "https://localhost:8080/"
        }
      },
      "source": [
        "!git status"
      ],
      "id": "XuXYZhPtnbUQ",
      "execution_count": 54,
      "outputs": [
        {
          "output_type": "stream",
          "text": [
            "On branch main\n",
            "Your branch is up to date with 'origin/main'.\n",
            "\n",
            "Untracked files:\n",
            "  (use \"git add <file>...\" to include in what will be committed)\n",
            "\n",
            "\t\u001b[31mTopSecret/\u001b[m\n",
            "\n",
            "nothing added to commit but untracked files present (use \"git add\" to track)\n"
          ],
          "name": "stdout"
        }
      ]
    },
    {
      "cell_type": "code",
      "metadata": {
        "id": "pTBengYjncaR"
      },
      "source": [
        ""
      ],
      "id": "pTBengYjncaR",
      "execution_count": null,
      "outputs": []
    }
  ]
}