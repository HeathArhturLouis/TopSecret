{
  "nbformat": 4,
  "nbformat_minor": 5,
  "metadata": {
    "kernelspec": {
      "display_name": "XAI2",
      "language": "python",
      "name": "xai"
    },
    "language_info": {
      "codemirror_mode": {
        "name": "ipython",
        "version": 3
      },
      "file_extension": ".py",
      "mimetype": "text/x-python",
      "name": "python",
      "nbconvert_exporter": "python",
      "pygments_lexer": "ipython3",
      "version": "3.8.5"
    },
    "colab": {
      "name": "new_stats.ipynb",
      "provenance": []
    }
  },
  "cells": [
    {
      "cell_type": "markdown",
      "metadata": {
        "id": "778eb7ee-ba3c-4a11-af27-b5746d5b507a"
      },
      "source": [
        "# **STATS FOR MY THESIS**\n",
        "\n",
        "*\"Lies, damned lies, and statistics\"*"
      ],
      "id": "778eb7ee-ba3c-4a11-af27-b5746d5b507a"
    },
    {
      "cell_type": "markdown",
      "metadata": {
        "id": "7884fa7c-dc11-4116-a3e3-8cd55dfc8164"
      },
      "source": [
        "### DEPENDENCIES & DATA"
      ],
      "id": "7884fa7c-dc11-4116-a3e3-8cd55dfc8164"
    },
    {
      "cell_type": "code",
      "metadata": {
        "id": "tddi8BnyjfwZ"
      },
      "source": [
        "# RUN THIS IF YOU USE GOOGLE COLAB TO FETCH THE LIBRARY AND REPO DATA\n",
        "!pip install scikit_posthocs\n",
        "!rm -rf ./content/TopSecret \\\n",
        "  && git clone https://github.com/HeathArhturLouis/TopSecret.git"
      ],
      "id": "tddi8BnyjfwZ",
      "execution_count": null,
      "outputs": []
    },
    {
      "cell_type": "code",
      "metadata": {
        "id": "eabd9e38-73fe-4361-9a52-6c4157b0b38f"
      },
      "source": [
        "%matplotlib inline\n",
        "\n",
        "# Import packages\n",
        "import numpy as np\n",
        "import pandas as pd\n",
        "import scipy.stats as damned_lies\n",
        "import scikit_posthocs as posthocs\n",
        "from matplotlib import pyplot as plt\n"
      ],
      "id": "eabd9e38-73fe-4361-9a52-6c4157b0b38f",
      "execution_count": 23,
      "outputs": []
    },
    {
      "cell_type": "code",
      "metadata": {
        "id": "QcTA7qrNl3e5"
      },
      "source": [
        "#CONSTANTS\n",
        "\n",
        "# study group id's\n",
        "detection_id = 1\n",
        "feedback_id = 2\n",
        "\n",
        "# study group colors\n",
        "detection_color = '#F6D55C'\n",
        "feedback_color  = '#3CAEA3'"
      ],
      "id": "QcTA7qrNl3e5",
      "execution_count": 52,
      "outputs": []
    },
    {
      "cell_type": "code",
      "metadata": {
        "id": "3ba9fd41-0add-4cd2-a4d4-cfa53fcefee2"
      },
      "source": [
        "# Load data sets from \"csv's\"\n",
        "friedman = pd.read_csv(\"data/Attempts-per-Scenario-Friedman.csv\", delim_whitespace=True)\n",
        "friedman_detection = pd.read_csv(\"data/friedman-detection-model.csv\", delim_whitespace=True)\n",
        "friedman_feedback = pd.read_csv(\"data/friedman-feedback-group.csv\", delim_whitespace=True)\n",
        "\n",
        "wilcoxon = pd.read_csv(\"data/Before-And-After-Correct-Answers-Wilcoxon-Signed-Rank-Test.csv\", delim_whitespace=True)\n",
        "students = pd.read_csv(\"data/Correct-Answers-Postgame-Independent-Sample-T-Test.csv\", delim_whitespace=True)"
      ],
      "id": "3ba9fd41-0add-4cd2-a4d4-cfa53fcefee2",
      "execution_count": 35,
      "outputs": []
    },
    {
      "cell_type": "markdown",
      "metadata": {
        "id": "76f54d05-6d4f-4077-a509-7a32ff5da2cc"
      },
      "source": [
        "### FRIEDMAN\n",
        "*Non parametric test to compare individual question performance*"
      ],
      "id": "76f54d05-6d4f-4077-a509-7a32ff5da2cc"
    },
    {
      "cell_type": "code",
      "metadata": {
        "colab": {
          "base_uri": "https://localhost:8080/"
        },
        "id": "b83083c3-cf3b-45d6-8dc6-e1813435bb87",
        "outputId": "db422a0c-a721-479a-9e71-0f79552c167e"
      },
      "source": [
        "# FRIEDMAN FOR BOTH GROUPS\n",
        "# NULL HYPOTHESIS: Median performance of problem scenarios are all the same\n",
        "damned_lies.friedmanchisquare(*np.transpose(friedman.values)[1:])"
      ],
      "id": "b83083c3-cf3b-45d6-8dc6-e1813435bb87",
      "execution_count": 38,
      "outputs": [
        {
          "output_type": "execute_result",
          "data": {
            "text/plain": [
              "FriedmanchisquareResult(statistic=33.05735805330244, pvalue=2.583291815262756e-05)"
            ]
          },
          "metadata": {
            "tags": []
          },
          "execution_count": 38
        }
      ]
    },
    {
      "cell_type": "code",
      "metadata": {
        "colab": {
          "base_uri": "https://localhost:8080/",
          "height": 324
        },
        "id": "iE9pwLIco7bo",
        "outputId": "7736114b-334d-45e6-cbfb-93a36f226f0b"
      },
      "source": [
        "plt.bar(\n",
        "    range(8),\n",
        "    [np.mean(a) for a in np.transpose(friedman.values)[1:]],\n",
        "    yerr=[np.std(a) for a in np.transpose(friedman.values)[1:]],\n",
        "    tick_label=['Scenario ' + str(i + 1) for i in range(8)],\n",
        "    color='#2e2b29',\n",
        "    ecolor='#50AE34')\n",
        "\n",
        "plt.title(\"Mean performance by scenario for both groups.\")\n",
        "plt.ylabel('Mean number of attempts')\n",
        "plt.xticks(rotation=90)\n",
        "plt.show()"
      ],
      "id": "iE9pwLIco7bo",
      "execution_count": 69,
      "outputs": [
        {
          "output_type": "display_data",
          "data": {
            "image/png": "[encoded data removed]",
            "text/plain": [
              "<Figure size 432x288 with 1 Axes>"
            ]
          },
          "metadata": {
            "tags": [],
            "needs_background": "light"
          }
        }
      ]
    },
    {
      "cell_type": "code",
      "metadata": {
        "id": "9fa7df97-019a-4033-a5df-0729094e52d1"
      },
      "source": [
        "friedman_detection"
      ],
      "id": "9fa7df97-019a-4033-a5df-0729094e52d1",
      "execution_count": null,
      "outputs": []
    },
    {
      "cell_type": "code",
      "metadata": {
        "colab": {
          "base_uri": "https://localhost:8080/"
        },
        "id": "1e3e4866-369e-47db-a02e-f340063033eb",
        "outputId": "645f41c5-e17a-41ad-d178-fc6eed22e46b"
      },
      "source": [
        "# FRIEDMAN FOR DETECTION MODEL\n",
        "# NULL HYPOTHESIS: Median performance of problem scenarios are all the same\n",
        "damned_lies.friedmanchisquare(*np.transpose(friedman_detection.values)[2:])"
      ],
      "id": "1e3e4866-369e-47db-a02e-f340063033eb",
      "execution_count": 39,
      "outputs": [
        {
          "output_type": "execute_result",
          "data": {
            "text/plain": [
              "FriedmanchisquareResult(statistic=19.349431818181692, pvalue=0.007160380493263334)"
            ]
          },
          "metadata": {
            "tags": []
          },
          "execution_count": 39
        }
      ]
    },
    {
      "cell_type": "code",
      "metadata": {
        "colab": {
          "base_uri": "https://localhost:8080/",
          "height": 324
        },
        "id": "490aea35-8436-4bb7-a455-2057b542f09c",
        "outputId": "c8ec2324-55cc-4825-ccc5-267a0c5862c7"
      },
      "source": [
        "plt.bar(\n",
        "    range(8),\n",
        "    [np.mean(a) for a in np.transpose(friedman_detection.values)[2:]],\n",
        "    yerr=[np.std(a) for a in np.transpose(friedman_detection.values)[2:]],\n",
        "    tick_label=['Scenario ' + str(i + 1) for i in range(8)],\n",
        "    color=detection_color,\n",
        "    ecolor='#AA1111')\n",
        "\n",
        "plt.title(\"Mean performance by scenario for detection group.\")\n",
        "plt.ylabel('Mean number of attempts')\n",
        "plt.xticks(rotation=90)\n",
        "plt.show()"
      ],
      "id": "490aea35-8436-4bb7-a455-2057b542f09c",
      "execution_count": 62,
      "outputs": [
        {
          "output_type": "display_data",
          "data": {
            "image/png": "[encoded data removed]",
            "text/plain": [
              "<Figure size 432x288 with 1 Axes>"
            ]
          },
          "metadata": {
            "tags": [],
            "needs_background": "light"
          }
        }
      ]
    },
    {
      "cell_type": "code",
      "metadata": {
        "colab": {
          "base_uri": "https://localhost:8080/"
        },
        "id": "a005a1ee-bb77-4cbb-89be-6bc63d7dce38",
        "outputId": "9cb638c4-34c0-4f4a-c114-3bfbefa2ec3c"
      },
      "source": [
        "# FRIEDMAN FOR FEEDBACK GROUP\n",
        "# NULL HYPOTHESIS: Median performance of problem scenarios are all the same\n",
        "damned_lies.friedmanchisquare(*np.transpose(friedman_feedback.values)[2:])"
      ],
      "id": "a005a1ee-bb77-4cbb-89be-6bc63d7dce38",
      "execution_count": 41,
      "outputs": [
        {
          "output_type": "execute_result",
          "data": {
            "text/plain": [
              "FriedmanchisquareResult(statistic=42.684931506849196, pvalue=3.8369691993606476e-07)"
            ]
          },
          "metadata": {
            "tags": []
          },
          "execution_count": 41
        }
      ]
    },
    {
      "cell_type": "code",
      "metadata": {
        "colab": {
          "base_uri": "https://localhost:8080/",
          "height": 324
        },
        "id": "cc43aacd-5116-4896-a377-9ddaecac7e66",
        "outputId": "76868082-382f-4185-d803-ca54e38a1d93"
      },
      "source": [
        "plt.bar(\n",
        "    range(8),\n",
        "    [np.mean(a) for a in np.transpose(friedman_feedback.values)[2:]],\n",
        "    yerr=[np.std(a) for a in np.transpose(friedman_feedback.values)[2:]],\n",
        "    tick_label=['Scenario ' + str(i + 1) for i in range(8)],\n",
        "    color=feedback_color,\n",
        "    ecolor='#AA1111')\n",
        "\n",
        "plt.title(\"Mean performance by scenario for feedback group.\")\n",
        "plt.ylabel('Mean number of attempts')\n",
        "plt.xticks(rotation=90)\n",
        "plt.show()"
      ],
      "id": "cc43aacd-5116-4896-a377-9ddaecac7e66",
      "execution_count": 60,
      "outputs": [
        {
          "output_type": "display_data",
          "data": {
            "image/png": "[encoded data removed]",
            "text/plain": [
              "<Figure size 432x288 with 1 Axes>"
            ]
          },
          "metadata": {
            "tags": [],
            "needs_background": "light"
          }
        }
      ]
    },
    {
      "cell_type": "markdown",
      "metadata": {
        "id": "60dd016e-0ffa-4992-a1c9-b9688c7ac383"
      },
      "source": [
        "**Sucessfully rejected the null hypothesis in both cases, apply**\n",
        "**pairwise comparisons using Nemenyi post hoc test**"
      ],
      "id": "60dd016e-0ffa-4992-a1c9-b9688c7ac383"
    },
    {
      "cell_type": "code",
      "metadata": {
        "colab": {
          "base_uri": "https://localhost:8080/",
          "height": 297
        },
        "id": "aa2d08a6-9893-4834-b6e1-cb27117bdb57",
        "outputId": "e2396a96-2590-49e5-ed11-08964465feb3"
      },
      "source": [
        "# DETECTION MODEL\n",
        "posthocs.posthoc_nemenyi_friedman(friedman_detection.drop(['UserId', 'StudyGroupId'], axis=1))"
      ],
      "id": "aa2d08a6-9893-4834-b6e1-cb27117bdb57",
      "execution_count": 43,
      "outputs": [
        {
          "output_type": "execute_result",
          "data": {
            "text/html": [
              "<div>\n",
              "<style scoped>\n",
              "    .dataframe tbody tr th:only-of-type {\n",
              "        vertical-align: middle;\n",
              "    }\n",
              "\n",
              "    .dataframe tbody tr th {\n",
              "        vertical-align: top;\n",
              "    }\n",
              "\n",
              "    .dataframe thead th {\n",
              "        text-align: right;\n",
              "    }\n",
              "</style>\n",
              "<table border=\"1\" class=\"dataframe\">\n",
              "  <thead>\n",
              "    <tr style=\"text-align: right;\">\n",
              "      <th></th>\n",
              "      <th>Scenario1</th>\n",
              "      <th>Scenario2</th>\n",
              "      <th>Scenario3</th>\n",
              "      <th>Scenario4</th>\n",
              "      <th>Scenario5</th>\n",
              "      <th>Scenario6</th>\n",
              "      <th>Scenario7</th>\n",
              "      <th>Scenario8</th>\n",
              "    </tr>\n",
              "  </thead>\n",
              "  <tbody>\n",
              "    <tr>\n",
              "      <th>Scenario1</th>\n",
              "      <td>1.000000</td>\n",
              "      <td>0.9</td>\n",
              "      <td>0.768777</td>\n",
              "      <td>0.9</td>\n",
              "      <td>0.900000</td>\n",
              "      <td>0.9</td>\n",
              "      <td>0.900000</td>\n",
              "      <td>0.900000</td>\n",
              "    </tr>\n",
              "    <tr>\n",
              "      <th>Scenario2</th>\n",
              "      <td>0.900000</td>\n",
              "      <td>1.0</td>\n",
              "      <td>0.900000</td>\n",
              "      <td>0.9</td>\n",
              "      <td>0.900000</td>\n",
              "      <td>0.9</td>\n",
              "      <td>0.900000</td>\n",
              "      <td>0.900000</td>\n",
              "    </tr>\n",
              "    <tr>\n",
              "      <th>Scenario3</th>\n",
              "      <td>0.768777</td>\n",
              "      <td>0.9</td>\n",
              "      <td>1.000000</td>\n",
              "      <td>0.9</td>\n",
              "      <td>0.470039</td>\n",
              "      <td>0.9</td>\n",
              "      <td>0.301991</td>\n",
              "      <td>0.900000</td>\n",
              "    </tr>\n",
              "    <tr>\n",
              "      <th>Scenario4</th>\n",
              "      <td>0.900000</td>\n",
              "      <td>0.9</td>\n",
              "      <td>0.900000</td>\n",
              "      <td>1.0</td>\n",
              "      <td>0.900000</td>\n",
              "      <td>0.9</td>\n",
              "      <td>0.900000</td>\n",
              "      <td>0.900000</td>\n",
              "    </tr>\n",
              "    <tr>\n",
              "      <th>Scenario5</th>\n",
              "      <td>0.900000</td>\n",
              "      <td>0.9</td>\n",
              "      <td>0.470039</td>\n",
              "      <td>0.9</td>\n",
              "      <td>1.000000</td>\n",
              "      <td>0.9</td>\n",
              "      <td>0.900000</td>\n",
              "      <td>0.630197</td>\n",
              "    </tr>\n",
              "    <tr>\n",
              "      <th>Scenario6</th>\n",
              "      <td>0.900000</td>\n",
              "      <td>0.9</td>\n",
              "      <td>0.900000</td>\n",
              "      <td>0.9</td>\n",
              "      <td>0.900000</td>\n",
              "      <td>1.0</td>\n",
              "      <td>0.900000</td>\n",
              "      <td>0.900000</td>\n",
              "    </tr>\n",
              "    <tr>\n",
              "      <th>Scenario7</th>\n",
              "      <td>0.900000</td>\n",
              "      <td>0.9</td>\n",
              "      <td>0.301991</td>\n",
              "      <td>0.9</td>\n",
              "      <td>0.900000</td>\n",
              "      <td>0.9</td>\n",
              "      <td>1.000000</td>\n",
              "      <td>0.470039</td>\n",
              "    </tr>\n",
              "    <tr>\n",
              "      <th>Scenario8</th>\n",
              "      <td>0.900000</td>\n",
              "      <td>0.9</td>\n",
              "      <td>0.900000</td>\n",
              "      <td>0.9</td>\n",
              "      <td>0.630197</td>\n",
              "      <td>0.9</td>\n",
              "      <td>0.470039</td>\n",
              "      <td>1.000000</td>\n",
              "    </tr>\n",
              "  </tbody>\n",
              "</table>\n",
              "</div>"
            ],
            "text/plain": [
              "           Scenario1  Scenario2  Scenario3  ...  Scenario6  Scenario7  Scenario8\n",
              "Scenario1   1.000000        0.9   0.768777  ...        0.9   0.900000   0.900000\n",
              "Scenario2   0.900000        1.0   0.900000  ...        0.9   0.900000   0.900000\n",
              "Scenario3   0.768777        0.9   1.000000  ...        0.9   0.301991   0.900000\n",
              "Scenario4   0.900000        0.9   0.900000  ...        0.9   0.900000   0.900000\n",
              "Scenario5   0.900000        0.9   0.470039  ...        0.9   0.900000   0.630197\n",
              "Scenario6   0.900000        0.9   0.900000  ...        1.0   0.900000   0.900000\n",
              "Scenario7   0.900000        0.9   0.301991  ...        0.9   1.000000   0.470039\n",
              "Scenario8   0.900000        0.9   0.900000  ...        0.9   0.470039   1.000000\n",
              "\n",
              "[8 rows x 8 columns]"
            ]
          },
          "metadata": {
            "tags": []
          },
          "execution_count": 43
        }
      ]
    },
    {
      "cell_type": "code",
      "metadata": {
        "colab": {
          "base_uri": "https://localhost:8080/",
          "height": 297
        },
        "id": "a4a1c960-1117-4bb5-b3ed-3ddee3ac7425",
        "outputId": "66579405-02be-49ee-c3ea-55e1c4c8ccd5"
      },
      "source": [
        "# FEEDBACK GROUP\n",
        "posthocs.posthoc_nemenyi_friedman(friedman_feedback.drop(['UserId', 'StudyGroupId'], axis=1))"
      ],
      "id": "a4a1c960-1117-4bb5-b3ed-3ddee3ac7425",
      "execution_count": 44,
      "outputs": [
        {
          "output_type": "execute_result",
          "data": {
            "text/html": [
              "<div>\n",
              "<style scoped>\n",
              "    .dataframe tbody tr th:only-of-type {\n",
              "        vertical-align: middle;\n",
              "    }\n",
              "\n",
              "    .dataframe tbody tr th {\n",
              "        vertical-align: top;\n",
              "    }\n",
              "\n",
              "    .dataframe thead th {\n",
              "        text-align: right;\n",
              "    }\n",
              "</style>\n",
              "<table border=\"1\" class=\"dataframe\">\n",
              "  <thead>\n",
              "    <tr style=\"text-align: right;\">\n",
              "      <th></th>\n",
              "      <th>Scenario1</th>\n",
              "      <th>Scenario2</th>\n",
              "      <th>Scenario3</th>\n",
              "      <th>Scenario4</th>\n",
              "      <th>Scenario5</th>\n",
              "      <th>Scenario6</th>\n",
              "      <th>Scenario7</th>\n",
              "      <th>Scenario8</th>\n",
              "    </tr>\n",
              "  </thead>\n",
              "  <tbody>\n",
              "    <tr>\n",
              "      <th>Scenario1</th>\n",
              "      <td>1.000000</td>\n",
              "      <td>0.900000</td>\n",
              "      <td>0.900000</td>\n",
              "      <td>0.900000</td>\n",
              "      <td>0.118189</td>\n",
              "      <td>0.570804</td>\n",
              "      <td>0.900000</td>\n",
              "      <td>0.900000</td>\n",
              "    </tr>\n",
              "    <tr>\n",
              "      <th>Scenario2</th>\n",
              "      <td>0.900000</td>\n",
              "      <td>1.000000</td>\n",
              "      <td>0.900000</td>\n",
              "      <td>0.900000</td>\n",
              "      <td>0.174998</td>\n",
              "      <td>0.470039</td>\n",
              "      <td>0.900000</td>\n",
              "      <td>0.900000</td>\n",
              "    </tr>\n",
              "    <tr>\n",
              "      <th>Scenario3</th>\n",
              "      <td>0.900000</td>\n",
              "      <td>0.900000</td>\n",
              "      <td>1.000000</td>\n",
              "      <td>0.900000</td>\n",
              "      <td>0.788576</td>\n",
              "      <td>0.043333</td>\n",
              "      <td>0.404639</td>\n",
              "      <td>0.709385</td>\n",
              "    </tr>\n",
              "    <tr>\n",
              "      <th>Scenario4</th>\n",
              "      <td>0.900000</td>\n",
              "      <td>0.900000</td>\n",
              "      <td>0.900000</td>\n",
              "      <td>1.000000</td>\n",
              "      <td>0.590602</td>\n",
              "      <td>0.108545</td>\n",
              "      <td>0.610400</td>\n",
              "      <td>0.900000</td>\n",
              "    </tr>\n",
              "    <tr>\n",
              "      <th>Scenario5</th>\n",
              "      <td>0.118189</td>\n",
              "      <td>0.174998</td>\n",
              "      <td>0.788576</td>\n",
              "      <td>0.590602</td>\n",
              "      <td>1.000000</td>\n",
              "      <td>0.001000</td>\n",
              "      <td>0.007416</td>\n",
              "      <td>0.039221</td>\n",
              "    </tr>\n",
              "    <tr>\n",
              "      <th>Scenario6</th>\n",
              "      <td>0.570804</td>\n",
              "      <td>0.470039</td>\n",
              "      <td>0.043333</td>\n",
              "      <td>0.108545</td>\n",
              "      <td>0.001000</td>\n",
              "      <td>1.000000</td>\n",
              "      <td>0.900000</td>\n",
              "      <td>0.808373</td>\n",
              "    </tr>\n",
              "    <tr>\n",
              "      <th>Scenario7</th>\n",
              "      <td>0.900000</td>\n",
              "      <td>0.900000</td>\n",
              "      <td>0.404639</td>\n",
              "      <td>0.610400</td>\n",
              "      <td>0.007416</td>\n",
              "      <td>0.900000</td>\n",
              "      <td>1.000000</td>\n",
              "      <td>0.900000</td>\n",
              "    </tr>\n",
              "    <tr>\n",
              "      <th>Scenario8</th>\n",
              "      <td>0.900000</td>\n",
              "      <td>0.900000</td>\n",
              "      <td>0.709385</td>\n",
              "      <td>0.900000</td>\n",
              "      <td>0.039221</td>\n",
              "      <td>0.808373</td>\n",
              "      <td>0.900000</td>\n",
              "      <td>1.000000</td>\n",
              "    </tr>\n",
              "  </tbody>\n",
              "</table>\n",
              "</div>"
            ],
            "text/plain": [
              "           Scenario1  Scenario2  Scenario3  ...  Scenario6  Scenario7  Scenario8\n",
              "Scenario1   1.000000   0.900000   0.900000  ...   0.570804   0.900000   0.900000\n",
              "Scenario2   0.900000   1.000000   0.900000  ...   0.470039   0.900000   0.900000\n",
              "Scenario3   0.900000   0.900000   1.000000  ...   0.043333   0.404639   0.709385\n",
              "Scenario4   0.900000   0.900000   0.900000  ...   0.108545   0.610400   0.900000\n",
              "Scenario5   0.118189   0.174998   0.788576  ...   0.001000   0.007416   0.039221\n",
              "Scenario6   0.570804   0.470039   0.043333  ...   1.000000   0.900000   0.808373\n",
              "Scenario7   0.900000   0.900000   0.404639  ...   0.900000   1.000000   0.900000\n",
              "Scenario8   0.900000   0.900000   0.709385  ...   0.808373   0.900000   1.000000\n",
              "\n",
              "[8 rows x 8 columns]"
            ]
          },
          "metadata": {
            "tags": []
          },
          "execution_count": 44
        }
      ]
    },
    {
      "cell_type": "markdown",
      "metadata": {
        "id": "9ebe0679-b689-4fcd-b29b-9958ddeb0dfa"
      },
      "source": [
        "### UNPAIRED T-TEST\n",
        "*H_0: There is no significant difference in performance between groups 1 and 2*"
      ],
      "id": "9ebe0679-b689-4fcd-b29b-9958ddeb0dfa"
    },
    {
      "cell_type": "code",
      "metadata": {
        "colab": {
          "base_uri": "https://localhost:8080/"
        },
        "id": "92762e26-61e0-4d65-8b8a-e5a0c9a68c19",
        "outputId": "320cc61a-b606-41b8-97e4-f633c5c07d8a"
      },
      "source": [
        "# Failed to reject H_0 --> We cannot conclude there is no significant difference in means of the two populations\n",
        "group1 = students[students[\"StudyGroupId\"] == detection_id][\"CorrectAnswersCount\"]\n",
        "group2 = students[students[\"StudyGroupId\"] == feedback_id][\"CorrectAnswersCount\"]\n",
        "\n",
        "damned_lies.ttest_ind(group1, group2)"
      ],
      "id": "92762e26-61e0-4d65-8b8a-e5a0c9a68c19",
      "execution_count": 61,
      "outputs": [
        {
          "output_type": "execute_result",
          "data": {
            "text/plain": [
              "Ttest_indResult(statistic=1.3005442373195382, pvalue=0.20167873671208875)"
            ]
          },
          "metadata": {
            "tags": []
          },
          "execution_count": 61
        }
      ]
    },
    {
      "cell_type": "code",
      "metadata": {
        "colab": {
          "base_uri": "https://localhost:8080/",
          "height": 281
        },
        "id": "105c147e-6702-4632-931d-4af0019b9312",
        "outputId": "1a39b772-6c7d-4d22-944d-a652fca98c7e"
      },
      "source": [
        "plt.bar(\n",
        "    [0, 1],\n",
        "    [np.mean(group1), np.mean(group2)],\n",
        "    color=[detection_color, feedback_color],\n",
        "    yerr=[np.std(group1), np.std(group2)],\n",
        "    tick_label=['Group 1','Group 2'],\n",
        "    ecolor='#AA1111')\n",
        "\n",
        "plt.title(\"Mean performance by group.\")\n",
        "plt.ylabel('Correct responses (out of 5)')\n",
        "plt.show()"
      ],
      "id": "105c147e-6702-4632-931d-4af0019b9312",
      "execution_count": 51,
      "outputs": [
        {
          "output_type": "display_data",
          "data": {
            "image/png": "[encoded data removed]",
            "text/plain": [
              "<Figure size 432x288 with 1 Axes>"
            ]
          },
          "metadata": {
            "tags": [],
            "needs_background": "light"
          }
        }
      ]
    },
    {
      "cell_type": "markdown",
      "metadata": {
        "id": "dc778aa6-8370-4bce-a0bf-d0dd4c8be676"
      },
      "source": [
        "### WILCOXON RANK\n",
        "*Determine weather game has significantly affected an individuals performance on questions*\n",
        "\n",
        "\n",
        "*H_0: There is no significant different between populations*"
      ],
      "id": "dc778aa6-8370-4bce-a0bf-d0dd4c8be676"
    },
    {
      "cell_type": "code",
      "metadata": {
        "colab": {
          "base_uri": "https://localhost:8080/"
        },
        "id": "b05cb4b4-65b3-45e3-938e-d94d62760deb",
        "outputId": "6f19bdea-9a00-44f5-a114-b11c41004705"
      },
      "source": [
        "# Sucesfully rejected H_0 ---> There appears to be a significant difference between the two populations\n",
        "\n",
        "damned_lies.wilcoxon(wilcoxon[\"Baseline\"], wilcoxon[\"Postgame\"])"
      ],
      "id": "b05cb4b4-65b3-45e3-938e-d94d62760deb",
      "execution_count": 47,
      "outputs": [
        {
          "output_type": "execute_result",
          "data": {
            "text/plain": [
              "WilcoxonResult(statistic=87.0, pvalue=0.0002624666422454448)"
            ]
          },
          "metadata": {
            "tags": []
          },
          "execution_count": 47
        }
      ]
    },
    {
      "cell_type": "code",
      "metadata": {
        "colab": {
          "base_uri": "https://localhost:8080/",
          "height": 281
        },
        "id": "96bc0255-2b09-4484-a553-de2c3cd7585b",
        "outputId": "7a239df8-8206-4df4-b1d0-3cacfaba0355"
      },
      "source": [
        "plt.bar(\n",
        "    [0, 1],\n",
        "    [np.mean(wilcoxon[\"Baseline\"]), np.mean(wilcoxon[\"Postgame\"])],\n",
        "    color=['#3CAEA3','#F6D55C'],\n",
        "    yerr=[np.std(a) for a in [wilcoxon[\"Baseline\"], wilcoxon[\"Postgame\"]]],\n",
        "    tick_label=['Baseline','Post-Game'],\n",
        "    ecolor='#AA1111')\n",
        "\n",
        "plt.title(\"Mean performance before and after game (with std error).\")\n",
        "plt.ylabel('Correct responses (out of 5)')\n",
        "plt.show()"
      ],
      "id": "96bc0255-2b09-4484-a553-de2c3cd7585b",
      "execution_count": 48,
      "outputs": [
        {
          "output_type": "display_data",
          "data": {
            "image/png": "[encoded data removed]",
            "text/plain": [
              "<Figure size 432x288 with 1 Axes>"
            ]
          },
          "metadata": {
            "tags": [],
            "needs_background": "light"
          }
        }
      ]
    },
    {
      "cell_type": "code",
      "metadata": {
        "id": "pTBengYjncaR"
      },
      "source": [
        ""
      ],
      "id": "pTBengYjncaR",
      "execution_count": null,
      "outputs": []
    }
  ]
}