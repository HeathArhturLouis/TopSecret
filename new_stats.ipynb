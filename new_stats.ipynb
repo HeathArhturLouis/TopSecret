{
  "nbformat": 4,
  "nbformat_minor": 5,
  "metadata": {
    "colab": {
      "name": "new_stats.ipynb",
      "provenance": [],
      "collapsed_sections": [
        "7884fa7c-dc11-4116-a3e3-8cd55dfc8164",
        "76f54d05-6d4f-4077-a509-7a32ff5da2cc",
        "9ebe0679-b689-4fcd-b29b-9958ddeb0dfa",
        "dc778aa6-8370-4bce-a0bf-d0dd4c8be676",
        "f3d8e2ca-8813-4bc2-9eec-5fed56224dcb",
        "629baace-4a5d-4e11-9854-92a556870f36",
        "d7f090fa-8ffa-48de-bed3-3bb5e13f132c"
      ],
      "toc_visible": true
    },
    "kernelspec": {
      "display_name": "XAI2",
      "language": "python",
      "name": "xai"
    },
    "language_info": {
      "codemirror_mode": {
        "name": "ipython",
        "version": 3
      },
      "file_extension": ".py",
      "mimetype": "text/x-python",
      "name": "python",
      "nbconvert_exporter": "python",
      "pygments_lexer": "ipython3",
      "version": "3.8.5"
    }
  },
  "cells": [
    {
      "cell_type": "markdown",
      "metadata": {
        "id": "778eb7ee-ba3c-4a11-af27-b5746d5b507a"
      },
      "source": [
        "# **STATS FOR MY THESIS**\n",
        "\n",
        "*\"Lies, damned lies, and statistics\"*"
      ],
      "id": "778eb7ee-ba3c-4a11-af27-b5746d5b507a"
    },
    {
      "cell_type": "markdown",
      "metadata": {
        "id": "7884fa7c-dc11-4116-a3e3-8cd55dfc8164"
      },
      "source": [
        "### DEPENDENCIES & DATA"
      ],
      "id": "7884fa7c-dc11-4116-a3e3-8cd55dfc8164"
    },
    {
      "cell_type": "code",
      "metadata": {
        "id": "tddi8BnyjfwZ",
        "colab": {
          "base_uri": "https://localhost:8080/"
        },
        "outputId": "65e27956-d9eb-42f1-d2f9-2adf010f2a9f"
      },
      "source": [
        "# RUN THIS IF YOU USE GOOGLE COLAB TO FETCH THE LIBRARY AND REPO DATA\n",
        "!pip install scikit_posthocs\n",
        "!rm -rf ./content/TopSecret \\\n",
        "  && git clone https://github.com/HeathArhturLouis/TopSecret.git\n",
        "\n",
        "%cd ./TopSecret/"
      ],
      "id": "tddi8BnyjfwZ",
      "execution_count": 88,
      "outputs": [
        {
          "output_type": "stream",
          "text": [
            "Requirement already satisfied: scikit_posthocs in /usr/local/lib/python3.7/dist-packages (0.6.7)\n",
            "Requirement already satisfied: pandas>=0.20.0 in /usr/local/lib/python3.7/dist-packages (from scikit_posthocs) (1.1.5)\n",
            "Requirement already satisfied: statsmodels in /usr/local/lib/python3.7/dist-packages (from scikit_posthocs) (0.10.2)\n",
            "Requirement already satisfied: numpy in /usr/local/lib/python3.7/dist-packages (from scikit_posthocs) (1.19.5)\n",
            "Requirement already satisfied: scipy in /usr/local/lib/python3.7/dist-packages (from scikit_posthocs) (1.4.1)\n",
            "Requirement already satisfied: seaborn in /usr/local/lib/python3.7/dist-packages (from scikit_posthocs) (0.11.1)\n",
            "Requirement already satisfied: matplotlib in /usr/local/lib/python3.7/dist-packages (from scikit_posthocs) (3.2.2)\n",
            "Requirement already satisfied: pytz>=2017.2 in /usr/local/lib/python3.7/dist-packages (from pandas>=0.20.0->scikit_posthocs) (2018.9)\n",
            "Requirement already satisfied: python-dateutil>=2.7.3 in /usr/local/lib/python3.7/dist-packages (from pandas>=0.20.0->scikit_posthocs) (2.8.1)\n",
            "Requirement already satisfied: six>=1.5 in /usr/local/lib/python3.7/dist-packages (from python-dateutil>=2.7.3->pandas>=0.20.0->scikit_posthocs) (1.15.0)\n",
            "Requirement already satisfied: cycler>=0.10 in /usr/local/lib/python3.7/dist-packages (from matplotlib->scikit_posthocs) (0.10.0)\n",
            "Requirement already satisfied: kiwisolver>=1.0.1 in /usr/local/lib/python3.7/dist-packages (from matplotlib->scikit_posthocs) (1.3.1)\n",
            "Requirement already satisfied: pyparsing!=2.0.4,!=2.1.2,!=2.1.6,>=2.0.1 in /usr/local/lib/python3.7/dist-packages (from matplotlib->scikit_posthocs) (2.4.7)\n",
            "Requirement already satisfied: patsy>=0.4.0 in /usr/local/lib/python3.7/dist-packages (from statsmodels->scikit_posthocs) (0.5.1)\n",
            "Cloning into 'TopSecret'...\n",
            "remote: Enumerating objects: 86, done.\u001b[K\n",
            "remote: Counting objects: 100% (86/86), done.\u001b[K\n",
            "remote: Compressing objects: 100% (65/65), done.\u001b[K\n",
            "remote: Total 86 (delta 32), reused 58 (delta 19), pack-reused 0\u001b[K\n",
            "Unpacking objects: 100% (86/86), done.\n",
            "/content/TopSecret/TopSecret\n"
          ],
          "name": "stdout"
        }
      ]
    },
    {
      "cell_type": "code",
      "metadata": {
        "id": "eabd9e38-73fe-4361-9a52-6c4157b0b38f"
      },
      "source": [
        "%matplotlib inline\n",
        "\n",
        "# Import packages\n",
        "import numpy as np\n",
        "import pandas as pd\n",
        "import scipy.stats as damned_lies\n",
        "import scikit_posthocs as posthocs\n",
        "from matplotlib import pyplot as plt\n"
      ],
      "id": "eabd9e38-73fe-4361-9a52-6c4157b0b38f",
      "execution_count": 89,
      "outputs": []
    },
    {
      "cell_type": "code",
      "metadata": {
        "id": "QcTA7qrNl3e5"
      },
      "source": [
        "#CONSTANTS\n",
        "\n",
        "# study group id's\n",
        "detection_id = 1\n",
        "feedback_id = 2\n",
        "\n",
        "# study group colors\n",
        "detection_color = '#F6D55C'\n",
        "feedback_color  = '#3CAEA3'"
      ],
      "id": "QcTA7qrNl3e5",
      "execution_count": 90,
      "outputs": []
    },
    {
      "cell_type": "code",
      "metadata": {
        "id": "3ba9fd41-0add-4cd2-a4d4-cfa53fcefee2"
      },
      "source": [
        "# Load data sets from \"csv's\"\n",
        "friedman = pd.read_csv(\"data/Attempts-per-Scenario-Friedman.csv\", delim_whitespace=True)\n",
        "friedman_detection = pd.read_csv(\"data/friedman-detection-model.csv\", delim_whitespace=True)\n",
        "friedman_feedback = pd.read_csv(\"data/friedman-feedback-group.csv\", delim_whitespace=True)\n",
        "\n",
        "wilcoxon = pd.read_csv(\"data/Before-And-After-Correct-Answers-Wilcoxon-Signed-Rank-Test.csv\", delim_whitespace=True)\n",
        "students = pd.read_csv(\"data/Correct-Answers-Postgame-Independent-Sample-T-Test.csv\", delim_whitespace=True)"
      ],
      "id": "3ba9fd41-0add-4cd2-a4d4-cfa53fcefee2",
      "execution_count": 91,
      "outputs": []
    },
    {
      "cell_type": "markdown",
      "metadata": {
        "id": "76f54d05-6d4f-4077-a509-7a32ff5da2cc"
      },
      "source": [
        "### FRIEDMAN\n",
        "*Non parametric test to compare individual question performance*"
      ],
      "id": "76f54d05-6d4f-4077-a509-7a32ff5da2cc"
    },
    {
      "cell_type": "code",
      "metadata": {
        "colab": {
          "base_uri": "https://localhost:8080/"
        },
        "id": "b83083c3-cf3b-45d6-8dc6-e1813435bb87",
        "outputId": "db422a0c-a721-479a-9e71-0f79552c167e"
      },
      "source": [
        "# FRIEDMAN FOR BOTH GROUPS\n",
        "# NULL HYPOTHESIS: Median performance of problem scenarios are all the same\n",
        "damned_lies.friedmanchisquare(*np.transpose(friedman.values)[1:])"
      ],
      "id": "b83083c3-cf3b-45d6-8dc6-e1813435bb87",
      "execution_count": null,
      "outputs": [
        {
          "output_type": "execute_result",
          "data": {
            "text/plain": [
              "FriedmanchisquareResult(statistic=33.05735805330244, pvalue=2.583291815262756e-05)"
            ]
          },
          "metadata": {
            "tags": []
          },
          "execution_count": 5
        }
      ]
    },
    {
      "cell_type": "code",
      "metadata": {
        "colab": {
          "base_uri": "https://localhost:8080/",
          "height": 324
        },
        "id": "iE9pwLIco7bo",
        "outputId": "7736114b-334d-45e6-cbfb-93a36f226f0b"
      },
      "source": [
        "plt.bar(\n",
        "    range(8),\n",
        "    [np.mean(a) for a in np.transpose(friedman.values)[1:]],\n",
        "    yerr=[np.std(a) for a in np.transpose(friedman.values)[1:]],\n",
        "    tick_label=['Scenario ' + str(i + 1) for i in range(8)],\n",
        "    color='#2e2b29',\n",
        "    ecolor='#50AE34')\n",
        "\n",
        "plt.title(\"Mean performance by scenario for both groups.\")\n",
        "plt.ylabel('Mean number of attempts')\n",
        "plt.xticks(rotation=90)\n",
        "plt.show()"
      ],
      "id": "iE9pwLIco7bo",
      "execution_count": null,
      "outputs": [
        {
          "output_type": "display_data",
          "data": {
            "image/png": "[encoded data removed]",
            "text/plain": [
              "<Figure size 432x288 with 1 Axes>"
            ]
          },
          "metadata": {
            "tags": [],
            "needs_background": "light"
          }
        }
      ]
    },
    {
      "cell_type": "code",
      "metadata": {
        "id": "9fa7df97-019a-4033-a5df-0729094e52d1",
        "outputId": "fdf12ffb-7687-4881-c7da-9de967fbf2a0"
      },
      "source": [
        "friedman_detection"
      ],
      "id": "9fa7df97-019a-4033-a5df-0729094e52d1",
      "execution_count": null,
      "outputs": [
        {
          "output_type": "execute_result",
          "data": {
            "text/html": [
              "<div>\n",
              "<style scoped>\n",
              "    .dataframe tbody tr th:only-of-type {\n",
              "        vertical-align: middle;\n",
              "    }\n",
              "\n",
              "    .dataframe tbody tr th {\n",
              "        vertical-align: top;\n",
              "    }\n",
              "\n",
              "    .dataframe thead th {\n",
              "        text-align: right;\n",
              "    }\n",
              "</style>\n",
              "<table border=\"1\" class=\"dataframe\">\n",
              "  <thead>\n",
              "    <tr style=\"text-align: right;\">\n",
              "      <th></th>\n",
              "      <th>UserId</th>\n",
              "      <th>StudyGroupId</th>\n",
              "      <th>Scenario1</th>\n",
              "      <th>Scenario2</th>\n",
              "      <th>Scenario3</th>\n",
              "      <th>Scenario4</th>\n",
              "      <th>Scenario5</th>\n",
              "      <th>Scenario6</th>\n",
              "      <th>Scenario7</th>\n",
              "      <th>Scenario8</th>\n",
              "    </tr>\n",
              "  </thead>\n",
              "  <tbody>\n",
              "    <tr>\n",
              "      <th>0</th>\n",
              "      <td>44791A1C-70BC-487F-857D-09931E01239E</td>\n",
              "      <td>1</td>\n",
              "      <td>1</td>\n",
              "      <td>2</td>\n",
              "      <td>2</td>\n",
              "      <td>2</td>\n",
              "      <td>1</td>\n",
              "      <td>1</td>\n",
              "      <td>1</td>\n",
              "      <td>1</td>\n",
              "    </tr>\n",
              "    <tr>\n",
              "      <th>1</th>\n",
              "      <td>D3A563F1-49D5-48AC-A438-2E8DC03FA00C</td>\n",
              "      <td>1</td>\n",
              "      <td>1</td>\n",
              "      <td>2</td>\n",
              "      <td>1</td>\n",
              "      <td>1</td>\n",
              "      <td>1</td>\n",
              "      <td>2</td>\n",
              "      <td>1</td>\n",
              "      <td>2</td>\n",
              "    </tr>\n",
              "    <tr>\n",
              "      <th>2</th>\n",
              "      <td>86767E70-DDBB-4B8F-807B-4A9057CAEFC6</td>\n",
              "      <td>1</td>\n",
              "      <td>1</td>\n",
              "      <td>1</td>\n",
              "      <td>1</td>\n",
              "      <td>1</td>\n",
              "      <td>1</td>\n",
              "      <td>1</td>\n",
              "      <td>1</td>\n",
              "      <td>1</td>\n",
              "    </tr>\n",
              "    <tr>\n",
              "      <th>3</th>\n",
              "      <td>0BDC9E45-26DE-42D6-AE95-4E5E6CDBFFE8</td>\n",
              "      <td>1</td>\n",
              "      <td>1</td>\n",
              "      <td>1</td>\n",
              "      <td>2</td>\n",
              "      <td>1</td>\n",
              "      <td>1</td>\n",
              "      <td>1</td>\n",
              "      <td>1</td>\n",
              "      <td>1</td>\n",
              "    </tr>\n",
              "    <tr>\n",
              "      <th>4</th>\n",
              "      <td>0075A8B0-3CA3-48FC-B66D-4E645F59A044</td>\n",
              "      <td>1</td>\n",
              "      <td>1</td>\n",
              "      <td>1</td>\n",
              "      <td>1</td>\n",
              "      <td>1</td>\n",
              "      <td>1</td>\n",
              "      <td>1</td>\n",
              "      <td>1</td>\n",
              "      <td>1</td>\n",
              "    </tr>\n",
              "    <tr>\n",
              "      <th>5</th>\n",
              "      <td>33AFBA48-79BC-441B-A6E5-555DFDDA9EE2</td>\n",
              "      <td>1</td>\n",
              "      <td>1</td>\n",
              "      <td>1</td>\n",
              "      <td>1</td>\n",
              "      <td>1</td>\n",
              "      <td>1</td>\n",
              "      <td>1</td>\n",
              "      <td>1</td>\n",
              "      <td>3</td>\n",
              "    </tr>\n",
              "    <tr>\n",
              "      <th>6</th>\n",
              "      <td>E6A6D715-9FA1-4504-9425-697466ABC7C4</td>\n",
              "      <td>1</td>\n",
              "      <td>2</td>\n",
              "      <td>1</td>\n",
              "      <td>2</td>\n",
              "      <td>1</td>\n",
              "      <td>1</td>\n",
              "      <td>2</td>\n",
              "      <td>1</td>\n",
              "      <td>3</td>\n",
              "    </tr>\n",
              "    <tr>\n",
              "      <th>7</th>\n",
              "      <td>10E07795-6E1C-4DAA-998E-6C5055C8BCDA</td>\n",
              "      <td>1</td>\n",
              "      <td>1</td>\n",
              "      <td>1</td>\n",
              "      <td>1</td>\n",
              "      <td>1</td>\n",
              "      <td>1</td>\n",
              "      <td>1</td>\n",
              "      <td>1</td>\n",
              "      <td>1</td>\n",
              "    </tr>\n",
              "    <tr>\n",
              "      <th>8</th>\n",
              "      <td>B16B1E41-BDFD-4966-8B9D-7513FD114C92</td>\n",
              "      <td>1</td>\n",
              "      <td>1</td>\n",
              "      <td>1</td>\n",
              "      <td>2</td>\n",
              "      <td>1</td>\n",
              "      <td>1</td>\n",
              "      <td>1</td>\n",
              "      <td>1</td>\n",
              "      <td>3</td>\n",
              "    </tr>\n",
              "    <tr>\n",
              "      <th>9</th>\n",
              "      <td>42FD1FDD-5E76-4BC8-B9FF-B18ADFD20BD4</td>\n",
              "      <td>1</td>\n",
              "      <td>1</td>\n",
              "      <td>1</td>\n",
              "      <td>1</td>\n",
              "      <td>1</td>\n",
              "      <td>1</td>\n",
              "      <td>1</td>\n",
              "      <td>1</td>\n",
              "      <td>2</td>\n",
              "    </tr>\n",
              "    <tr>\n",
              "      <th>10</th>\n",
              "      <td>771C4071-311B-4E03-95A1-B44DAC60A5DB</td>\n",
              "      <td>1</td>\n",
              "      <td>1</td>\n",
              "      <td>1</td>\n",
              "      <td>1</td>\n",
              "      <td>1</td>\n",
              "      <td>1</td>\n",
              "      <td>1</td>\n",
              "      <td>1</td>\n",
              "      <td>1</td>\n",
              "    </tr>\n",
              "    <tr>\n",
              "      <th>11</th>\n",
              "      <td>2A5E8609-81F2-424E-B01F-B7AC5B8A4F39</td>\n",
              "      <td>1</td>\n",
              "      <td>1</td>\n",
              "      <td>1</td>\n",
              "      <td>1</td>\n",
              "      <td>2</td>\n",
              "      <td>1</td>\n",
              "      <td>2</td>\n",
              "      <td>1</td>\n",
              "      <td>1</td>\n",
              "    </tr>\n",
              "    <tr>\n",
              "      <th>12</th>\n",
              "      <td>BF16631F-1E70-4791-AF9A-BA41067F65D2</td>\n",
              "      <td>1</td>\n",
              "      <td>1</td>\n",
              "      <td>1</td>\n",
              "      <td>2</td>\n",
              "      <td>1</td>\n",
              "      <td>1</td>\n",
              "      <td>1</td>\n",
              "      <td>1</td>\n",
              "      <td>3</td>\n",
              "    </tr>\n",
              "    <tr>\n",
              "      <th>13</th>\n",
              "      <td>DE35FFFC-D67B-4CB4-A2CF-BEB3358E2FB3</td>\n",
              "      <td>1</td>\n",
              "      <td>1</td>\n",
              "      <td>1</td>\n",
              "      <td>2</td>\n",
              "      <td>1</td>\n",
              "      <td>1</td>\n",
              "      <td>1</td>\n",
              "      <td>1</td>\n",
              "      <td>1</td>\n",
              "    </tr>\n",
              "    <tr>\n",
              "      <th>14</th>\n",
              "      <td>C1A5E8EF-976A-484E-929D-C211FA94DF1E</td>\n",
              "      <td>1</td>\n",
              "      <td>2</td>\n",
              "      <td>1</td>\n",
              "      <td>2</td>\n",
              "      <td>2</td>\n",
              "      <td>1</td>\n",
              "      <td>1</td>\n",
              "      <td>1</td>\n",
              "      <td>1</td>\n",
              "    </tr>\n",
              "    <tr>\n",
              "      <th>15</th>\n",
              "      <td>E444631B-D60D-4A40-90BF-D5CAD238F849</td>\n",
              "      <td>1</td>\n",
              "      <td>1</td>\n",
              "      <td>2</td>\n",
              "      <td>2</td>\n",
              "      <td>1</td>\n",
              "      <td>1</td>\n",
              "      <td>1</td>\n",
              "      <td>1</td>\n",
              "      <td>2</td>\n",
              "    </tr>\n",
              "    <tr>\n",
              "      <th>16</th>\n",
              "      <td>5595AE42-9FCB-4F02-A069-DCB42B8DD50A</td>\n",
              "      <td>1</td>\n",
              "      <td>1</td>\n",
              "      <td>1</td>\n",
              "      <td>2</td>\n",
              "      <td>2</td>\n",
              "      <td>1</td>\n",
              "      <td>1</td>\n",
              "      <td>1</td>\n",
              "      <td>1</td>\n",
              "    </tr>\n",
              "    <tr>\n",
              "      <th>17</th>\n",
              "      <td>336C916D-70E3-449B-A21B-E2B143F8B505</td>\n",
              "      <td>1</td>\n",
              "      <td>1</td>\n",
              "      <td>2</td>\n",
              "      <td>1</td>\n",
              "      <td>1</td>\n",
              "      <td>2</td>\n",
              "      <td>2</td>\n",
              "      <td>1</td>\n",
              "      <td>1</td>\n",
              "    </tr>\n",
              "    <tr>\n",
              "      <th>18</th>\n",
              "      <td>D785C2BE-831E-4B72-AAB0-FAB484C1BBD7</td>\n",
              "      <td>1</td>\n",
              "      <td>2</td>\n",
              "      <td>1</td>\n",
              "      <td>1</td>\n",
              "      <td>1</td>\n",
              "      <td>1</td>\n",
              "      <td>1</td>\n",
              "      <td>1</td>\n",
              "      <td>1</td>\n",
              "    </tr>\n",
              "  </tbody>\n",
              "</table>\n",
              "</div>"
            ],
            "text/plain": [
              "                                  UserId  StudyGroupId  Scenario1  Scenario2  \\\n",
              "0   44791A1C-70BC-487F-857D-09931E01239E             1          1          2   \n",
              "1   D3A563F1-49D5-48AC-A438-2E8DC03FA00C             1          1          2   \n",
              "2   86767E70-DDBB-4B8F-807B-4A9057CAEFC6             1          1          1   \n",
              "3   0BDC9E45-26DE-42D6-AE95-4E5E6CDBFFE8             1          1          1   \n",
              "4   0075A8B0-3CA3-48FC-B66D-4E645F59A044             1          1          1   \n",
              "5   33AFBA48-79BC-441B-A6E5-555DFDDA9EE2             1          1          1   \n",
              "6   E6A6D715-9FA1-4504-9425-697466ABC7C4             1          2          1   \n",
              "7   10E07795-6E1C-4DAA-998E-6C5055C8BCDA             1          1          1   \n",
              "8   B16B1E41-BDFD-4966-8B9D-7513FD114C92             1          1          1   \n",
              "9   42FD1FDD-5E76-4BC8-B9FF-B18ADFD20BD4             1          1          1   \n",
              "10  771C4071-311B-4E03-95A1-B44DAC60A5DB             1          1          1   \n",
              "11  2A5E8609-81F2-424E-B01F-B7AC5B8A4F39             1          1          1   \n",
              "12  BF16631F-1E70-4791-AF9A-BA41067F65D2             1          1          1   \n",
              "13  DE35FFFC-D67B-4CB4-A2CF-BEB3358E2FB3             1          1          1   \n",
              "14  C1A5E8EF-976A-484E-929D-C211FA94DF1E             1          2          1   \n",
              "15  E444631B-D60D-4A40-90BF-D5CAD238F849             1          1          2   \n",
              "16  5595AE42-9FCB-4F02-A069-DCB42B8DD50A             1          1          1   \n",
              "17  336C916D-70E3-449B-A21B-E2B143F8B505             1          1          2   \n",
              "18  D785C2BE-831E-4B72-AAB0-FAB484C1BBD7             1          2          1   \n",
              "\n",
              "    Scenario3  Scenario4  Scenario5  Scenario6  Scenario7  Scenario8  \n",
              "0           2          2          1          1          1          1  \n",
              "1           1          1          1          2          1          2  \n",
              "2           1          1          1          1          1          1  \n",
              "3           2          1          1          1          1          1  \n",
              "4           1          1          1          1          1          1  \n",
              "5           1          1          1          1          1          3  \n",
              "6           2          1          1          2          1          3  \n",
              "7           1          1          1          1          1          1  \n",
              "8           2          1          1          1          1          3  \n",
              "9           1          1          1          1          1          2  \n",
              "10          1          1          1          1          1          1  \n",
              "11          1          2          1          2          1          1  \n",
              "12          2          1          1          1          1          3  \n",
              "13          2          1          1          1          1          1  \n",
              "14          2          2          1          1          1          1  \n",
              "15          2          1          1          1          1          2  \n",
              "16          2          2          1          1          1          1  \n",
              "17          1          1          2          2          1          1  \n",
              "18          1          1          1          1          1          1  "
            ]
          },
          "metadata": {
            "tags": []
          },
          "execution_count": 7
        }
      ]
    },
    {
      "cell_type": "code",
      "metadata": {
        "colab": {
          "base_uri": "https://localhost:8080/"
        },
        "id": "1e3e4866-369e-47db-a02e-f340063033eb",
        "outputId": "645f41c5-e17a-41ad-d178-fc6eed22e46b"
      },
      "source": [
        "# FRIEDMAN FOR DETECTION MODEL\n",
        "# NULL HYPOTHESIS: Median performance of problem scenarios are all the same\n",
        "damned_lies.friedmanchisquare(*np.transpose(friedman_detection.values)[2:])"
      ],
      "id": "1e3e4866-369e-47db-a02e-f340063033eb",
      "execution_count": null,
      "outputs": [
        {
          "output_type": "execute_result",
          "data": {
            "text/plain": [
              "FriedmanchisquareResult(statistic=19.349431818181692, pvalue=0.007160380493263334)"
            ]
          },
          "metadata": {
            "tags": []
          },
          "execution_count": 8
        }
      ]
    },
    {
      "cell_type": "code",
      "metadata": {
        "colab": {
          "base_uri": "https://localhost:8080/",
          "height": 324
        },
        "id": "490aea35-8436-4bb7-a455-2057b542f09c",
        "outputId": "c8ec2324-55cc-4825-ccc5-267a0c5862c7"
      },
      "source": [
        "plt.bar(\n",
        "    range(8),\n",
        "    [np.mean(a) for a in np.transpose(friedman_detection.values)[2:]],\n",
        "    yerr=[np.std(a) for a in np.transpose(friedman_detection.values)[2:]],\n",
        "    tick_label=['Scenario ' + str(i + 1) for i in range(8)],\n",
        "    color=detection_color,\n",
        "    ecolor='#AA1111')\n",
        "\n",
        "plt.title(\"Mean performance by scenario for detection group.\")\n",
        "plt.ylabel('Mean number of attempts')\n",
        "plt.xticks(rotation=90)\n",
        "plt.show()"
      ],
      "id": "490aea35-8436-4bb7-a455-2057b542f09c",
      "execution_count": null,
      "outputs": [
        {
          "output_type": "display_data",
          "data": {
            "image/png": "[encoded data removed]",
            "text/plain": [
              "<Figure size 432x288 with 1 Axes>"
            ]
          },
          "metadata": {
            "tags": [],
            "needs_background": "light"
          }
        }
      ]
    },
    {
      "cell_type": "code",
      "metadata": {
        "colab": {
          "base_uri": "https://localhost:8080/"
        },
        "id": "a005a1ee-bb77-4cbb-89be-6bc63d7dce38",
        "outputId": "9cb638c4-34c0-4f4a-c114-3bfbefa2ec3c"
      },
      "source": [
        "# FRIEDMAN FOR FEEDBACK GROUP\n",
        "# NULL HYPOTHESIS: Median performance of problem scenarios are all the same\n",
        "damned_lies.friedmanchisquare(*np.transpose(friedman_feedback.values)[2:])"
      ],
      "id": "a005a1ee-bb77-4cbb-89be-6bc63d7dce38",
      "execution_count": null,
      "outputs": [
        {
          "output_type": "execute_result",
          "data": {
            "text/plain": [
              "FriedmanchisquareResult(statistic=42.684931506849196, pvalue=3.8369691993606476e-07)"
            ]
          },
          "metadata": {
            "tags": []
          },
          "execution_count": 10
        }
      ]
    },
    {
      "cell_type": "code",
      "metadata": {
        "colab": {
          "base_uri": "https://localhost:8080/",
          "height": 324
        },
        "id": "cc43aacd-5116-4896-a377-9ddaecac7e66",
        "outputId": "76868082-382f-4185-d803-ca54e38a1d93"
      },
      "source": [
        "plt.bar(\n",
        "    range(8),\n",
        "    [np.mean(a) for a in np.transpose(friedman_feedback.values)[2:]],\n",
        "    yerr=[np.std(a) for a in np.transpose(friedman_feedback.values)[2:]],\n",
        "    tick_label=['Scenario ' + str(i + 1) for i in range(8)],\n",
        "    color=feedback_color,\n",
        "    ecolor='#AA1111')\n",
        "\n",
        "plt.title(\"Mean performance by scenario for feedback group.\")\n",
        "plt.ylabel('Mean number of attempts')\n",
        "plt.xticks(rotation=90)\n",
        "plt.show()"
      ],
      "id": "cc43aacd-5116-4896-a377-9ddaecac7e66",
      "execution_count": null,
      "outputs": [
        {
          "output_type": "display_data",
          "data": {
            "image/png": "[encoded data removed]",
            "text/plain": [
              "<Figure size 432x288 with 1 Axes>"
            ]
          },
          "metadata": {
            "tags": [],
            "needs_background": "light"
          }
        }
      ]
    },
    {
      "cell_type": "markdown",
      "metadata": {
        "id": "60dd016e-0ffa-4992-a1c9-b9688c7ac383"
      },
      "source": [
        "**Sucessfully rejected the null hypothesis in both cases, apply**\n",
        "**pairwise comparisons using Nemenyi post hoc test**"
      ],
      "id": "60dd016e-0ffa-4992-a1c9-b9688c7ac383"
    },
    {
      "cell_type": "code",
      "metadata": {
        "colab": {
          "base_uri": "https://localhost:8080/",
          "height": 297
        },
        "id": "aa2d08a6-9893-4834-b6e1-cb27117bdb57",
        "outputId": "e2396a96-2590-49e5-ed11-08964465feb3"
      },
      "source": [
        "# DETECTION MODEL\n",
        "posthocs.posthoc_nemenyi_friedman(friedman_detection.drop(['UserId', 'StudyGroupId'], axis=1))"
      ],
      "id": "aa2d08a6-9893-4834-b6e1-cb27117bdb57",
      "execution_count": null,
      "outputs": [
        {
          "output_type": "execute_result",
          "data": {
            "text/html": [
              "<div>\n",
              "<style scoped>\n",
              "    .dataframe tbody tr th:only-of-type {\n",
              "        vertical-align: middle;\n",
              "    }\n",
              "\n",
              "    .dataframe tbody tr th {\n",
              "        vertical-align: top;\n",
              "    }\n",
              "\n",
              "    .dataframe thead th {\n",
              "        text-align: right;\n",
              "    }\n",
              "</style>\n",
              "<table border=\"1\" class=\"dataframe\">\n",
              "  <thead>\n",
              "    <tr style=\"text-align: right;\">\n",
              "      <th></th>\n",
              "      <th>Scenario1</th>\n",
              "      <th>Scenario2</th>\n",
              "      <th>Scenario3</th>\n",
              "      <th>Scenario4</th>\n",
              "      <th>Scenario5</th>\n",
              "      <th>Scenario6</th>\n",
              "      <th>Scenario7</th>\n",
              "      <th>Scenario8</th>\n",
              "    </tr>\n",
              "  </thead>\n",
              "  <tbody>\n",
              "    <tr>\n",
              "      <th>Scenario1</th>\n",
              "      <td>1.000000</td>\n",
              "      <td>0.9</td>\n",
              "      <td>0.768777</td>\n",
              "      <td>0.9</td>\n",
              "      <td>0.900000</td>\n",
              "      <td>0.9</td>\n",
              "      <td>0.900000</td>\n",
              "      <td>0.900000</td>\n",
              "    </tr>\n",
              "    <tr>\n",
              "      <th>Scenario2</th>\n",
              "      <td>0.900000</td>\n",
              "      <td>1.0</td>\n",
              "      <td>0.900000</td>\n",
              "      <td>0.9</td>\n",
              "      <td>0.900000</td>\n",
              "      <td>0.9</td>\n",
              "      <td>0.900000</td>\n",
              "      <td>0.900000</td>\n",
              "    </tr>\n",
              "    <tr>\n",
              "      <th>Scenario3</th>\n",
              "      <td>0.768777</td>\n",
              "      <td>0.9</td>\n",
              "      <td>1.000000</td>\n",
              "      <td>0.9</td>\n",
              "      <td>0.470039</td>\n",
              "      <td>0.9</td>\n",
              "      <td>0.301991</td>\n",
              "      <td>0.900000</td>\n",
              "    </tr>\n",
              "    <tr>\n",
              "      <th>Scenario4</th>\n",
              "      <td>0.900000</td>\n",
              "      <td>0.9</td>\n",
              "      <td>0.900000</td>\n",
              "      <td>1.0</td>\n",
              "      <td>0.900000</td>\n",
              "      <td>0.9</td>\n",
              "      <td>0.900000</td>\n",
              "      <td>0.900000</td>\n",
              "    </tr>\n",
              "    <tr>\n",
              "      <th>Scenario5</th>\n",
              "      <td>0.900000</td>\n",
              "      <td>0.9</td>\n",
              "      <td>0.470039</td>\n",
              "      <td>0.9</td>\n",
              "      <td>1.000000</td>\n",
              "      <td>0.9</td>\n",
              "      <td>0.900000</td>\n",
              "      <td>0.630197</td>\n",
              "    </tr>\n",
              "    <tr>\n",
              "      <th>Scenario6</th>\n",
              "      <td>0.900000</td>\n",
              "      <td>0.9</td>\n",
              "      <td>0.900000</td>\n",
              "      <td>0.9</td>\n",
              "      <td>0.900000</td>\n",
              "      <td>1.0</td>\n",
              "      <td>0.900000</td>\n",
              "      <td>0.900000</td>\n",
              "    </tr>\n",
              "    <tr>\n",
              "      <th>Scenario7</th>\n",
              "      <td>0.900000</td>\n",
              "      <td>0.9</td>\n",
              "      <td>0.301991</td>\n",
              "      <td>0.9</td>\n",
              "      <td>0.900000</td>\n",
              "      <td>0.9</td>\n",
              "      <td>1.000000</td>\n",
              "      <td>0.470039</td>\n",
              "    </tr>\n",
              "    <tr>\n",
              "      <th>Scenario8</th>\n",
              "      <td>0.900000</td>\n",
              "      <td>0.9</td>\n",
              "      <td>0.900000</td>\n",
              "      <td>0.9</td>\n",
              "      <td>0.630197</td>\n",
              "      <td>0.9</td>\n",
              "      <td>0.470039</td>\n",
              "      <td>1.000000</td>\n",
              "    </tr>\n",
              "  </tbody>\n",
              "</table>\n",
              "</div>"
            ],
            "text/plain": [
              "           Scenario1  Scenario2  Scenario3  Scenario4  Scenario5  Scenario6  \\\n",
              "Scenario1   1.000000        0.9   0.768777        0.9   0.900000        0.9   \n",
              "Scenario2   0.900000        1.0   0.900000        0.9   0.900000        0.9   \n",
              "Scenario3   0.768777        0.9   1.000000        0.9   0.470039        0.9   \n",
              "Scenario4   0.900000        0.9   0.900000        1.0   0.900000        0.9   \n",
              "Scenario5   0.900000        0.9   0.470039        0.9   1.000000        0.9   \n",
              "Scenario6   0.900000        0.9   0.900000        0.9   0.900000        1.0   \n",
              "Scenario7   0.900000        0.9   0.301991        0.9   0.900000        0.9   \n",
              "Scenario8   0.900000        0.9   0.900000        0.9   0.630197        0.9   \n",
              "\n",
              "           Scenario7  Scenario8  \n",
              "Scenario1   0.900000   0.900000  \n",
              "Scenario2   0.900000   0.900000  \n",
              "Scenario3   0.301991   0.900000  \n",
              "Scenario4   0.900000   0.900000  \n",
              "Scenario5   0.900000   0.630197  \n",
              "Scenario6   0.900000   0.900000  \n",
              "Scenario7   1.000000   0.470039  \n",
              "Scenario8   0.470039   1.000000  "
            ]
          },
          "metadata": {
            "tags": []
          },
          "execution_count": 12
        }
      ]
    },
    {
      "cell_type": "code",
      "metadata": {
        "colab": {
          "base_uri": "https://localhost:8080/",
          "height": 297
        },
        "id": "a4a1c960-1117-4bb5-b3ed-3ddee3ac7425",
        "outputId": "66579405-02be-49ee-c3ea-55e1c4c8ccd5"
      },
      "source": [
        "# FEEDBACK GROUP\n",
        "posthocs.posthoc_nemenyi_friedman(friedman_feedback.drop(['UserId', 'StudyGroupId'], axis=1))"
      ],
      "id": "a4a1c960-1117-4bb5-b3ed-3ddee3ac7425",
      "execution_count": null,
      "outputs": [
        {
          "output_type": "execute_result",
          "data": {
            "text/html": [
              "<div>\n",
              "<style scoped>\n",
              "    .dataframe tbody tr th:only-of-type {\n",
              "        vertical-align: middle;\n",
              "    }\n",
              "\n",
              "    .dataframe tbody tr th {\n",
              "        vertical-align: top;\n",
              "    }\n",
              "\n",
              "    .dataframe thead th {\n",
              "        text-align: right;\n",
              "    }\n",
              "</style>\n",
              "<table border=\"1\" class=\"dataframe\">\n",
              "  <thead>\n",
              "    <tr style=\"text-align: right;\">\n",
              "      <th></th>\n",
              "      <th>Scenario1</th>\n",
              "      <th>Scenario2</th>\n",
              "      <th>Scenario3</th>\n",
              "      <th>Scenario4</th>\n",
              "      <th>Scenario5</th>\n",
              "      <th>Scenario6</th>\n",
              "      <th>Scenario7</th>\n",
              "      <th>Scenario8</th>\n",
              "    </tr>\n",
              "  </thead>\n",
              "  <tbody>\n",
              "    <tr>\n",
              "      <th>Scenario1</th>\n",
              "      <td>1.000000</td>\n",
              "      <td>0.900000</td>\n",
              "      <td>0.900000</td>\n",
              "      <td>0.900000</td>\n",
              "      <td>0.118189</td>\n",
              "      <td>0.570804</td>\n",
              "      <td>0.900000</td>\n",
              "      <td>0.900000</td>\n",
              "    </tr>\n",
              "    <tr>\n",
              "      <th>Scenario2</th>\n",
              "      <td>0.900000</td>\n",
              "      <td>1.000000</td>\n",
              "      <td>0.900000</td>\n",
              "      <td>0.900000</td>\n",
              "      <td>0.174998</td>\n",
              "      <td>0.470039</td>\n",
              "      <td>0.900000</td>\n",
              "      <td>0.900000</td>\n",
              "    </tr>\n",
              "    <tr>\n",
              "      <th>Scenario3</th>\n",
              "      <td>0.900000</td>\n",
              "      <td>0.900000</td>\n",
              "      <td>1.000000</td>\n",
              "      <td>0.900000</td>\n",
              "      <td>0.788576</td>\n",
              "      <td>0.043333</td>\n",
              "      <td>0.404639</td>\n",
              "      <td>0.709385</td>\n",
              "    </tr>\n",
              "    <tr>\n",
              "      <th>Scenario4</th>\n",
              "      <td>0.900000</td>\n",
              "      <td>0.900000</td>\n",
              "      <td>0.900000</td>\n",
              "      <td>1.000000</td>\n",
              "      <td>0.590602</td>\n",
              "      <td>0.108545</td>\n",
              "      <td>0.610400</td>\n",
              "      <td>0.900000</td>\n",
              "    </tr>\n",
              "    <tr>\n",
              "      <th>Scenario5</th>\n",
              "      <td>0.118189</td>\n",
              "      <td>0.174998</td>\n",
              "      <td>0.788576</td>\n",
              "      <td>0.590602</td>\n",
              "      <td>1.000000</td>\n",
              "      <td>0.001000</td>\n",
              "      <td>0.007416</td>\n",
              "      <td>0.039221</td>\n",
              "    </tr>\n",
              "    <tr>\n",
              "      <th>Scenario6</th>\n",
              "      <td>0.570804</td>\n",
              "      <td>0.470039</td>\n",
              "      <td>0.043333</td>\n",
              "      <td>0.108545</td>\n",
              "      <td>0.001000</td>\n",
              "      <td>1.000000</td>\n",
              "      <td>0.900000</td>\n",
              "      <td>0.808373</td>\n",
              "    </tr>\n",
              "    <tr>\n",
              "      <th>Scenario7</th>\n",
              "      <td>0.900000</td>\n",
              "      <td>0.900000</td>\n",
              "      <td>0.404639</td>\n",
              "      <td>0.610400</td>\n",
              "      <td>0.007416</td>\n",
              "      <td>0.900000</td>\n",
              "      <td>1.000000</td>\n",
              "      <td>0.900000</td>\n",
              "    </tr>\n",
              "    <tr>\n",
              "      <th>Scenario8</th>\n",
              "      <td>0.900000</td>\n",
              "      <td>0.900000</td>\n",
              "      <td>0.709385</td>\n",
              "      <td>0.900000</td>\n",
              "      <td>0.039221</td>\n",
              "      <td>0.808373</td>\n",
              "      <td>0.900000</td>\n",
              "      <td>1.000000</td>\n",
              "    </tr>\n",
              "  </tbody>\n",
              "</table>\n",
              "</div>"
            ],
            "text/plain": [
              "           Scenario1  Scenario2  Scenario3  Scenario4  Scenario5  Scenario6  \\\n",
              "Scenario1   1.000000   0.900000   0.900000   0.900000   0.118189   0.570804   \n",
              "Scenario2   0.900000   1.000000   0.900000   0.900000   0.174998   0.470039   \n",
              "Scenario3   0.900000   0.900000   1.000000   0.900000   0.788576   0.043333   \n",
              "Scenario4   0.900000   0.900000   0.900000   1.000000   0.590602   0.108545   \n",
              "Scenario5   0.118189   0.174998   0.788576   0.590602   1.000000   0.001000   \n",
              "Scenario6   0.570804   0.470039   0.043333   0.108545   0.001000   1.000000   \n",
              "Scenario7   0.900000   0.900000   0.404639   0.610400   0.007416   0.900000   \n",
              "Scenario8   0.900000   0.900000   0.709385   0.900000   0.039221   0.808373   \n",
              "\n",
              "           Scenario7  Scenario8  \n",
              "Scenario1   0.900000   0.900000  \n",
              "Scenario2   0.900000   0.900000  \n",
              "Scenario3   0.404639   0.709385  \n",
              "Scenario4   0.610400   0.900000  \n",
              "Scenario5   0.007416   0.039221  \n",
              "Scenario6   0.900000   0.808373  \n",
              "Scenario7   1.000000   0.900000  \n",
              "Scenario8   0.900000   1.000000  "
            ]
          },
          "metadata": {
            "tags": []
          },
          "execution_count": 13
        }
      ]
    },
    {
      "cell_type": "markdown",
      "metadata": {
        "id": "9ebe0679-b689-4fcd-b29b-9958ddeb0dfa"
      },
      "source": [
        "### UNPAIRED T-TEST\n",
        "*H_0: There is no significant difference in performance between groups 1 and 2*"
      ],
      "id": "9ebe0679-b689-4fcd-b29b-9958ddeb0dfa"
    },
    {
      "cell_type": "code",
      "metadata": {
        "colab": {
          "base_uri": "https://localhost:8080/"
        },
        "id": "92762e26-61e0-4d65-8b8a-e5a0c9a68c19",
        "outputId": "320cc61a-b606-41b8-97e4-f633c5c07d8a"
      },
      "source": [
        "# Failed to reject H_0 --> We cannot conclude there is no significant difference in means of the two populations\n",
        "group1 = students[students[\"StudyGroupId\"] == detection_id][\"CorrectAnswersCount\"]\n",
        "group2 = students[students[\"StudyGroupId\"] == feedback_id][\"CorrectAnswersCount\"]\n",
        "\n",
        "damned_lies.ttest_ind(group1, group2)"
      ],
      "id": "92762e26-61e0-4d65-8b8a-e5a0c9a68c19",
      "execution_count": null,
      "outputs": [
        {
          "output_type": "execute_result",
          "data": {
            "text/plain": [
              "Ttest_indResult(statistic=1.3005442373195382, pvalue=0.20167873671208875)"
            ]
          },
          "metadata": {
            "tags": []
          },
          "execution_count": 14
        }
      ]
    },
    {
      "cell_type": "code",
      "metadata": {
        "colab": {
          "base_uri": "https://localhost:8080/",
          "height": 281
        },
        "id": "105c147e-6702-4632-931d-4af0019b9312",
        "outputId": "1a39b772-6c7d-4d22-944d-a652fca98c7e"
      },
      "source": [
        "plt.bar(\n",
        "    [0, 1],\n",
        "    [np.mean(group1), np.mean(group2)],\n",
        "    color=[detection_color, feedback_color],\n",
        "    yerr=[np.std(group1), np.std(group2)],\n",
        "    tick_label=['Group 1','Group 2'],\n",
        "    ecolor='#AA1111')\n",
        "\n",
        "plt.title(\"Mean performance by group.\")\n",
        "plt.ylabel('Correct responses (out of 5)')\n",
        "plt.show()"
      ],
      "id": "105c147e-6702-4632-931d-4af0019b9312",
      "execution_count": null,
      "outputs": [
        {
          "output_type": "display_data",
          "data": {
            "image/png": "[encoded data removed]",
            "text/plain": [
              "<Figure size 432x288 with 1 Axes>"
            ]
          },
          "metadata": {
            "tags": [],
            "needs_background": "light"
          }
        }
      ]
    },
    {
      "cell_type": "markdown",
      "metadata": {
        "id": "dc778aa6-8370-4bce-a0bf-d0dd4c8be676"
      },
      "source": [
        "### WILCOXON RANK\n",
        "*Determine weather game has significantly affected an individuals performance on questions*\n",
        "\n",
        "\n",
        "*H_0: There is no significant different between populations*"
      ],
      "id": "dc778aa6-8370-4bce-a0bf-d0dd4c8be676"
    },
    {
      "cell_type": "code",
      "metadata": {
        "colab": {
          "base_uri": "https://localhost:8080/"
        },
        "id": "b05cb4b4-65b3-45e3-938e-d94d62760deb",
        "outputId": "6f19bdea-9a00-44f5-a114-b11c41004705"
      },
      "source": [
        "# Sucesfully rejected H_0 ---> There appears to be a significant difference between the two populations\n",
        "\n",
        "damned_lies.wilcoxon(wilcoxon[\"Baseline\"], wilcoxon[\"Postgame\"])"
      ],
      "id": "b05cb4b4-65b3-45e3-938e-d94d62760deb",
      "execution_count": null,
      "outputs": [
        {
          "output_type": "execute_result",
          "data": {
            "text/plain": [
              "WilcoxonResult(statistic=87.0, pvalue=0.0002624666422454448)"
            ]
          },
          "metadata": {
            "tags": []
          },
          "execution_count": 16
        }
      ]
    },
    {
      "cell_type": "code",
      "metadata": {
        "colab": {
          "base_uri": "https://localhost:8080/",
          "height": 281
        },
        "id": "96bc0255-2b09-4484-a553-de2c3cd7585b",
        "outputId": "7a239df8-8206-4df4-b1d0-3cacfaba0355"
      },
      "source": [
        "plt.bar(\n",
        "    [0, 1],\n",
        "    [np.mean(wilcoxon[\"Baseline\"]), np.mean(wilcoxon[\"Postgame\"])],\n",
        "    color=['#3CAEA3','#F6D55C'],\n",
        "    yerr=[np.std(a) for a in [wilcoxon[\"Baseline\"], wilcoxon[\"Postgame\"]]],\n",
        "    tick_label=['Baseline','Post-Game'],\n",
        "    ecolor='#AA1111')\n",
        "\n",
        "plt.title(\"Mean performance before and after game (with std error).\")\n",
        "plt.ylabel('Correct responses (out of 5)')\n",
        "plt.show()"
      ],
      "id": "96bc0255-2b09-4484-a553-de2c3cd7585b",
      "execution_count": null,
      "outputs": [
        {
          "output_type": "display_data",
          "data": {
            "image/png": "[encoded data removed]",
            "text/plain": [
              "<Figure size 432x288 with 1 Axes>"
            ]
          },
          "metadata": {
            "tags": [],
            "needs_background": "light"
          }
        }
      ]
    },
    {
      "cell_type": "markdown",
      "metadata": {
        "id": "5d403b66-2ef8-47f9-af74-77afa16c7251"
      },
      "source": [
        "## PLOT HELPFULNESS"
      ],
      "id": "5d403b66-2ef8-47f9-af74-77afa16c7251"
    },
    {
      "cell_type": "code",
      "metadata": {
        "id": "30f3b213-f6b8-4c6b-b15a-5286c73262f3",
        "outputId": "0f2cbd5c-0e85-4edd-b49b-d6609a5b63d6"
      },
      "source": [
        "helpfullness = pd.read_csv('data/data_for_graphs/helpfulness_per_group.csv', delim_whitespace=True)\n",
        "helpfullness"
      ],
      "id": "30f3b213-f6b8-4c6b-b15a-5286c73262f3",
      "execution_count": null,
      "outputs": [
        {
          "output_type": "execute_result",
          "data": {
            "text/html": [
              "<div>\n",
              "<style scoped>\n",
              "    .dataframe tbody tr th:only-of-type {\n",
              "        vertical-align: middle;\n",
              "    }\n",
              "\n",
              "    .dataframe tbody tr th {\n",
              "        vertical-align: top;\n",
              "    }\n",
              "\n",
              "    .dataframe thead th {\n",
              "        text-align: right;\n",
              "    }\n",
              "</style>\n",
              "<table border=\"1\" class=\"dataframe\">\n",
              "  <thead>\n",
              "    <tr style=\"text-align: right;\">\n",
              "      <th></th>\n",
              "      <th>StudyHelpfulness</th>\n",
              "      <th>DetectionModelGroup</th>\n",
              "      <th>FeedbackGroup</th>\n",
              "    </tr>\n",
              "  </thead>\n",
              "  <tbody>\n",
              "    <tr>\n",
              "      <th>0</th>\n",
              "      <td>ALittleHelpful</td>\n",
              "      <td>1</td>\n",
              "      <td>1</td>\n",
              "    </tr>\n",
              "    <tr>\n",
              "      <th>1</th>\n",
              "      <td>SomewhatHelpful</td>\n",
              "      <td>16</td>\n",
              "      <td>15</td>\n",
              "    </tr>\n",
              "    <tr>\n",
              "      <th>2</th>\n",
              "      <td>Unsure</td>\n",
              "      <td>1</td>\n",
              "      <td>1</td>\n",
              "    </tr>\n",
              "    <tr>\n",
              "      <th>3</th>\n",
              "      <td>VeryHelpful</td>\n",
              "      <td>1</td>\n",
              "      <td>2</td>\n",
              "    </tr>\n",
              "  </tbody>\n",
              "</table>\n",
              "</div>"
            ],
            "text/plain": [
              "  StudyHelpfulness  DetectionModelGroup  FeedbackGroup\n",
              "0   ALittleHelpful                    1              1\n",
              "1  SomewhatHelpful                   16             15\n",
              "2           Unsure                    1              1\n",
              "3      VeryHelpful                    1              2"
            ]
          },
          "metadata": {
            "tags": []
          },
          "execution_count": 20
        }
      ]
    },
    {
      "cell_type": "code",
      "metadata": {
        "colab": {
          "base_uri": "https://localhost:8080/",
          "height": 416
        },
        "id": "7eeb0d3a-e879-48eb-89cf-03e876b1ec88",
        "outputId": "d690796f-a475-4741-be6f-20b4d917b2fe"
      },
      "source": [
        "labels = ['Unsure', 'Not helpful at all', 'A little helpful',  'Somewhat helpful', 'Very Helpful']\n",
        "\n",
        "detection_group = [1, 0, 1, 16, 1]\n",
        "feedback_group = [1, 0, 1, 15, 2]\n",
        "\n",
        "x = np.arange(len(labels))  # the label locations\n",
        "width = 0.35  # the width of the bars\n",
        "\n",
        "fig, ax = plt.subplots()\n",
        "\n",
        "# Two bar boys on an axis doth a grouped bar chart make ... -- William \"Wez\" Shakespear\n",
        "rects1 = ax.bar(x - width/2, detection_group, width, label='Detection Model', color=detection_color)\n",
        "rects2 = ax.bar(x + width/2, feedback_group, width, label='Feedback Group', color=feedback_color)\n",
        "\n",
        "# Add some text for labels, title and custom x-axis tick labels, etc.\n",
        "ax.set_ylabel('# responses')\n",
        "# TODO: Add sensible title\n",
        "ax.set_title('Participants'' perceived heplfulness of the training')\n",
        "ax.set_xticks(x)\n",
        "ax.set_xticklabels(labels)\n",
        "plt.xticks(rotation=90)\n",
        "ax.legend()\n",
        "\n",
        "for bar in ax.patches:\n",
        "  # The text annotation for each bar should be its height.\n",
        "  bar_value = bar.get_height()\n",
        "  # Format the text with commas to separate thousands. You can do\n",
        "  # any type of formatting here though.\n",
        "  text = f'{bar_value:,}'\n",
        "  # This will give the middle of each bar on the x-axis.\n",
        "  text_x = bar.get_x() + bar.get_width() / 2\n",
        "  # get_y() is where the bar starts so we add the height to it.\n",
        "  text_y = bar.get_y() + bar_value\n",
        "  # If we want the text to be the same color as the bar, we can\n",
        "  # get the color like so:\n",
        "  bar_color = bar.get_facecolor()\n",
        "  # If you want a consistent color, you can just set it as a constant, e.g. #222222\n",
        "  ax.text(text_x, text_y, text, ha='center', va='bottom', color='black',\n",
        "          size=12)\n",
        "  \n",
        "plt.margins(y=0.1)\n",
        "fig.set_size_inches((10,5))\n",
        "plt.show()"
      ],
      "id": "7eeb0d3a-e879-48eb-89cf-03e876b1ec88",
      "execution_count": 58,
      "outputs": [
        {
          "output_type": "display_data",
          "data": {
            "image/png": "[encoded data removed]",
            "text/plain": [
              "<Figure size 720x360 with 1 Axes>"
            ]
          },
          "metadata": {
            "tags": [],
            "needs_background": "light"
          }
        }
      ]
    },
    {
      "cell_type": "markdown",
      "metadata": {
        "id": "56c96d38-3561-47fc-915c-5e1b8b43c0f7"
      },
      "source": [
        "# TRAINING"
      ],
      "id": "56c96d38-3561-47fc-915c-5e1b8b43c0f7"
    },
    {
      "cell_type": "markdown",
      "metadata": {
        "id": "00954b14-927b-4537-8e39-1dc71d7b42b0"
      },
      "source": [
        "grouped bar chart: the groups are the three Avg(...) columns for general, detection, and feedback. \n",
        "    each bar is for training level (none, formal, informal, both)"
      ],
      "id": "00954b14-927b-4537-8e39-1dc71d7b42b0"
    },
    {
      "cell_type": "code",
      "metadata": {
        "colab": {
          "base_uri": "https://localhost:8080/",
          "height": 173
        },
        "id": "124db7d9-ef54-4d47-af5d-c139e6767348",
        "outputId": "bf4a2f8a-66ef-4765-cb31-e95a4e4499a6"
      },
      "source": [
        "training_per_group = pd.read_csv('data/data_for_graphs/training_per_group.csv', delim_whitespace=True)\n",
        "training_per_group"
      ],
      "id": "124db7d9-ef54-4d47-af5d-c139e6767348",
      "execution_count": 92,
      "outputs": [
        {
          "output_type": "execute_result",
          "data": {
            "text/html": [
              "<div>\n",
              "<style scoped>\n",
              "    .dataframe tbody tr th:only-of-type {\n",
              "        vertical-align: middle;\n",
              "    }\n",
              "\n",
              "    .dataframe tbody tr th {\n",
              "        vertical-align: top;\n",
              "    }\n",
              "\n",
              "    .dataframe thead th {\n",
              "        text-align: right;\n",
              "    }\n",
              "</style>\n",
              "<table border=\"1\" class=\"dataframe\">\n",
              "  <thead>\n",
              "    <tr style=\"text-align: right;\">\n",
              "      <th></th>\n",
              "      <th>Training</th>\n",
              "      <th>AvgPerfChangeGeneral</th>\n",
              "      <th>AvgPerfChangeDMG</th>\n",
              "      <th>AvgPerfChangeFG</th>\n",
              "    </tr>\n",
              "  </thead>\n",
              "  <tbody>\n",
              "    <tr>\n",
              "      <th>0</th>\n",
              "      <td>NoTraining</td>\n",
              "      <td>1.313</td>\n",
              "      <td>1.889</td>\n",
              "      <td>0.571</td>\n",
              "    </tr>\n",
              "    <tr>\n",
              "      <th>1</th>\n",
              "      <td>FormalOnly</td>\n",
              "      <td>1.333</td>\n",
              "      <td>2.000</td>\n",
              "      <td>0.000</td>\n",
              "    </tr>\n",
              "    <tr>\n",
              "      <th>2</th>\n",
              "      <td>InformalOnly</td>\n",
              "      <td>1.167</td>\n",
              "      <td>0.000</td>\n",
              "      <td>1.750</td>\n",
              "    </tr>\n",
              "    <tr>\n",
              "      <th>3</th>\n",
              "      <td>FormalAndInformal</td>\n",
              "      <td>0.923</td>\n",
              "      <td>1.167</td>\n",
              "      <td>0.714</td>\n",
              "    </tr>\n",
              "  </tbody>\n",
              "</table>\n",
              "</div>"
            ],
            "text/plain": [
              "            Training  AvgPerfChangeGeneral  AvgPerfChangeDMG  AvgPerfChangeFG\n",
              "0         NoTraining                 1.313             1.889            0.571\n",
              "1         FormalOnly                 1.333             2.000            0.000\n",
              "2       InformalOnly                 1.167             0.000            1.750\n",
              "3  FormalAndInformal                 0.923             1.167            0.714"
            ]
          },
          "metadata": {
            "tags": []
          },
          "execution_count": 92
        }
      ]
    },
    {
      "cell_type": "code",
      "metadata": {
        "colab": {
          "base_uri": "https://localhost:8080/",
          "height": 336
        },
        "id": "37be991f-edff-46d4-a0a5-afc1910df1a9",
        "outputId": "89848674-1692-424f-8973-28336d49749e"
      },
      "source": [
        "labels = ['General','Detection model', 'Feedback group']\n",
        "\n",
        "none = [1.313, 1.889, 0.571]\n",
        "formal = [1.333, 2.000, 0.000]\n",
        "informal = [1.167, 0.000, 1.750]\n",
        "formalinformal = [0.923, 1.167, 0.714]\n",
        "\n",
        "x = np.arange(len(labels))  # the label locations\n",
        "width = 0.2  # the width of the bars\n",
        "\n",
        "fig, ax = plt.subplots()\n",
        "\n",
        "# Four bar boys on an axis doth a grouped bar chart make ... -- William \"Wez\" Shakespear\n",
        "rects1 = ax.bar(x - 3 * width/2, none, width, label='No training')\n",
        "rects2 = ax.bar(x - width/2, formal, width, label='Only formal training')\n",
        "rects3 = ax.bar(x + width/2, informal, width, label='Only informal training', color=detection_color)\n",
        "rects4 = ax.bar(x + 3 * width/2, formalinformal, width, label='Formal and informal training', color=feedback_color)\n",
        "\n",
        "# Add some text for labels, title and custom x-axis tick labels, etc.\n",
        "ax.set_ylabel('Mean change in # correct answers')\n",
        "# ax.set_xlabel('Group')\n",
        "# TODO: Add sensible title\n",
        "ax.set_title('Performance change per undertaken training')\n",
        "ax.set_xticks(x)\n",
        "ax.set_xticklabels(labels)\n",
        "\n",
        "ax.legend()\n",
        "\n",
        "for bar in ax.patches:\n",
        "  # The text annotation for each bar should be its height.\n",
        "  bar_value = bar.get_height()\n",
        "  # Format the text with commas to separate thousands. You can do\n",
        "  # any type of formatting here though.\n",
        "  text = f'{bar_value:,}'\n",
        "  # This will give the middle of each bar on the x-axis.\n",
        "  text_x = bar.get_x() + bar.get_width() / 2\n",
        "  # get_y() is where the bar starts so we add the height to it.\n",
        "  text_y = bar.get_y() + bar_value\n",
        "  # If we want the text to be the same color as the bar, we can\n",
        "  # get the color like so:\n",
        "  bar_color = bar.get_facecolor()\n",
        "  # If you want a consistent color, you can just set it as a constant, e.g. #222222\n",
        "  ax.text(text_x, text_y, text, ha='center', va='bottom', color='black',\n",
        "          size=12)\n",
        "  \n",
        "plt.margins(y=0.1)\n",
        "fig.set_size_inches((10,5))\n",
        "plt.show()"
      ],
      "id": "37be991f-edff-46d4-a0a5-afc1910df1a9",
      "execution_count": 87,
      "outputs": [
        {
          "output_type": "display_data",
          "data": {
            "image/png": "[encoded data removed]",
            "text/plain": [
              "<Figure size 720x360 with 1 Axes>"
            ]
          },
          "metadata": {
            "tags": [],
            "needs_background": "light"
          }
        }
      ]
    },
    {
      "cell_type": "markdown",
      "metadata": {
        "id": "7fe398a8-b73a-4076-894b-057683ff5584"
      },
      "source": [
        "# PERFORMANCE"
      ],
      "id": "7fe398a8-b73a-4076-894b-057683ff5584"
    },
    {
      "cell_type": "markdown",
      "metadata": {
        "id": "48a27f6d-bdb1-4ab5-b997-f16efbd6bc25"
      },
      "source": [
        "ideally something like a grouped postivie-negative bar chart, but I don't know if that's possible, so a stacked bar chart would suffice in this case (where each stack conists of up to two bars representing increase in performance and decreasein performance)\n",
        "(there's only one value decreasing in performance tho)\n",
        "\n",
        "\n",
        "\n",
        "the groups for the bars are the study groups (ALL, det model, feedback)\n",
        "the bars are the factor labels (e.g secondary, bachelor, postgrad for education, the four year groups for professional experience, the six age groups)"
      ],
      "id": "48a27f6d-bdb1-4ab5-b997-f16efbd6bc25"
    },
    {
      "cell_type": "markdown",
      "metadata": {
        "id": "02cb62ff-c554-4e12-b7c4-741e98145172"
      },
      "source": [
        "# PERFORMANCE CHANGE AGE GROUP"
      ],
      "id": "02cb62ff-c554-4e12-b7c4-741e98145172"
    },
    {
      "cell_type": "code",
      "metadata": {
        "id": "35972957-e427-4357-8720-683899d9f4e8",
        "outputId": "5b0a5ddc-9465-49e5-f52d-66c9eb3f1735"
      },
      "source": [
        "\n",
        "# HERE I DO NOT THINK IT IS NECCESARY TO INCLUDE THE ENTIRE RANGE OF AGES, SINCE ITS NOT ABOUT OPTIONS PARTICIPANTS WERE 'PICKING FROM' PER SAY\n",
        "# USING ONLY TWO AGE RANGES MAKES THE GRAPH MORE READABLE WITH LESS EMPTY SPACE, FEEL FREE TO CHANGE THIS IF YOU LIKE\n",
        "\n",
        "perf_age = pd.read_csv('data/data_for_graphs/performance_change_age_groups.csv', delim_whitespace=True)\n",
        "perf_age"
      ],
      "id": "35972957-e427-4357-8720-683899d9f4e8",
      "execution_count": null,
      "outputs": [
        {
          "output_type": "execute_result",
          "data": {
            "text/html": [
              "<div>\n",
              "<style scoped>\n",
              "    .dataframe tbody tr th:only-of-type {\n",
              "        vertical-align: middle;\n",
              "    }\n",
              "\n",
              "    .dataframe tbody tr th {\n",
              "        vertical-align: top;\n",
              "    }\n",
              "\n",
              "    .dataframe thead th {\n",
              "        text-align: right;\n",
              "    }\n",
              "</style>\n",
              "<table border=\"1\" class=\"dataframe\">\n",
              "  <thead>\n",
              "    <tr style=\"text-align: right;\">\n",
              "      <th></th>\n",
              "      <th>AgeGroup</th>\n",
              "      <th>AvgPerfChange</th>\n",
              "      <th>AvgPerfChangeDMG</th>\n",
              "      <th>AvgPerfChangeFG</th>\n",
              "    </tr>\n",
              "  </thead>\n",
              "  <tbody>\n",
              "    <tr>\n",
              "      <th>0</th>\n",
              "      <td>18-24yearsold</td>\n",
              "      <td>1.13</td>\n",
              "      <td>1.33</td>\n",
              "      <td>0.93</td>\n",
              "    </tr>\n",
              "    <tr>\n",
              "      <th>1</th>\n",
              "      <td>25-34yearsold</td>\n",
              "      <td>1.25</td>\n",
              "      <td>2.00</td>\n",
              "      <td>0.50</td>\n",
              "    </tr>\n",
              "  </tbody>\n",
              "</table>\n",
              "</div>"
            ],
            "text/plain": [
              "        AgeGroup  AvgPerfChange  AvgPerfChangeDMG  AvgPerfChangeFG\n",
              "0  18-24yearsold           1.13              1.33             0.93\n",
              "1  25-34yearsold           1.25              2.00             0.50"
            ]
          },
          "metadata": {
            "tags": []
          },
          "execution_count": 76
        }
      ]
    },
    {
      "cell_type": "markdown",
      "metadata": {
        "id": "eee78770-ca08-4dd1-84f8-77e8fb461783"
      },
      "source": [
        "1\t18 - 24 years old\n",
        "2\t25 - 34 years old\n"
      ],
      "id": "eee78770-ca08-4dd1-84f8-77e8fb461783"
    },
    {
      "cell_type": "code",
      "metadata": {
        "colab": {
          "base_uri": "https://localhost:8080/",
          "height": 336
        },
        "id": "851dcae4-5bc7-4cb7-aa5d-46623b4bdf8b",
        "outputId": "28f4ced4-6183-4400-b0bf-af5131f4fee8"
      },
      "source": [
        "# Groups\n",
        "labels = ['All','Detection model', 'Feedback group']\n",
        "\n",
        "eighteen = [1.13, 1.33, 0.93]\n",
        "twentyfive = [1.25, 2.00, 0.50]\n",
        "\n",
        "x = np.arange(len(labels))  # the label locations\n",
        "width = 0.2 # the width of the bars\n",
        "\n",
        "fig, ax = plt.subplots()\n",
        "\n",
        "# Four bar boys on an axis doth a grouped bar chart make ... -- William \"Wez\" Shakespear\n",
        "rects2 = ax.bar(x - width/2, eighteen, width, label='18 - 25 years')\n",
        "rects3 = ax.bar(x + width/2, twentyfive, width, label='25 - 35 years', color=detection_color)\n",
        "\n",
        "# Add some text for labels, title and custom x-axis tick labels, etc.\n",
        "ax.set_ylabel('Mean change in # correct answers')\n",
        "# ax.set_xlabel('Group')\n",
        "# TODO: Add sensible title\n",
        "ax.set_title('Performance change per age group')\n",
        "ax.set_xticks(x)\n",
        "ax.set_xticklabels(labels)\n",
        "\n",
        "ax.legend()\n",
        "\n",
        "for bar in ax.patches:\n",
        "  # The text annotation for each bar should be its height.\n",
        "  bar_value = bar.get_height()\n",
        "  # Format the text with commas to separate thousands. You can do\n",
        "  # any type of formatting here though.\n",
        "  text = f'{bar_value:,}'\n",
        "  # This will give the middle of each bar on the x-axis.\n",
        "  text_x = bar.get_x() + bar.get_width() / 2\n",
        "  # get_y() is where the bar starts so we add the height to it.\n",
        "  text_y = bar.get_y() + bar_value\n",
        "  # If we want the text to be the same color as the bar, we can\n",
        "  # get the color like so:\n",
        "  bar_color = bar.get_facecolor()\n",
        "  # If you want a consistent color, you can just set it as a constant, e.g. #222222\n",
        "  ax.text(text_x, text_y, text, ha='center', va='bottom', color='black',\n",
        "          size=12)\n",
        "\n",
        "plt.margins(y=0.1)\n",
        "fig.set_size_inches((10,5))\n",
        "\n",
        "plt.show()"
      ],
      "id": "851dcae4-5bc7-4cb7-aa5d-46623b4bdf8b",
      "execution_count": 84,
      "outputs": [
        {
          "output_type": "display_data",
          "data": {
            "image/png": "[encoded data removed]",
            "text/plain": [
              "<Figure size 720x360 with 1 Axes>"
            ]
          },
          "metadata": {
            "tags": [],
            "needs_background": "light"
          }
        }
      ]
    },
    {
      "cell_type": "markdown",
      "metadata": {
        "id": "571b7dc1-d8c3-4536-8a36-08c5d2a23887"
      },
      "source": [
        "# PERFORMANCE CHANGE EDUCATION"
      ],
      "id": "571b7dc1-d8c3-4536-8a36-08c5d2a23887"
    },
    {
      "cell_type": "code",
      "metadata": {
        "id": "5df5dbca-178a-4a48-be88-a00833ccd3b9",
        "outputId": "3e78f79b-f7e2-4a8d-aef9-c233d4e62f49"
      },
      "source": [
        "perf_edu = pd.read_csv('data/data_for_graphs/performance_change_education.csv', delim_whitespace=True)\n",
        "perf_edu"
      ],
      "id": "5df5dbca-178a-4a48-be88-a00833ccd3b9",
      "execution_count": null,
      "outputs": [
        {
          "output_type": "execute_result",
          "data": {
            "text/html": [
              "<div>\n",
              "<style scoped>\n",
              "    .dataframe tbody tr th:only-of-type {\n",
              "        vertical-align: middle;\n",
              "    }\n",
              "\n",
              "    .dataframe tbody tr th {\n",
              "        vertical-align: top;\n",
              "    }\n",
              "\n",
              "    .dataframe thead th {\n",
              "        text-align: right;\n",
              "    }\n",
              "</style>\n",
              "<table border=\"1\" class=\"dataframe\">\n",
              "  <thead>\n",
              "    <tr style=\"text-align: right;\">\n",
              "      <th></th>\n",
              "      <th>EducationGroup</th>\n",
              "      <th>AvgPerfChange</th>\n",
              "      <th>AvgPerfChangeDMG</th>\n",
              "      <th>AvgPerfChangeFG</th>\n",
              "    </tr>\n",
              "  </thead>\n",
              "  <tbody>\n",
              "    <tr>\n",
              "      <th>0</th>\n",
              "      <td>SecondaryEducation</td>\n",
              "      <td>1.27</td>\n",
              "      <td>1.67</td>\n",
              "      <td>0.93</td>\n",
              "    </tr>\n",
              "    <tr>\n",
              "      <th>1</th>\n",
              "      <td>BachelorDegreeOrEquivalent</td>\n",
              "      <td>1.00</td>\n",
              "      <td>1.14</td>\n",
              "      <td>0.75</td>\n",
              "    </tr>\n",
              "    <tr>\n",
              "      <th>2</th>\n",
              "      <td>PostgraduateMaster</td>\n",
              "      <td>0.00</td>\n",
              "      <td>0.00</td>\n",
              "      <td>0.00</td>\n",
              "    </tr>\n",
              "  </tbody>\n",
              "</table>\n",
              "</div>"
            ],
            "text/plain": [
              "               EducationGroup  AvgPerfChange  AvgPerfChangeDMG  \\\n",
              "0          SecondaryEducation           1.27              1.67   \n",
              "1  BachelorDegreeOrEquivalent           1.00              1.14   \n",
              "2          PostgraduateMaster           0.00              0.00   \n",
              "\n",
              "   AvgPerfChangeFG  \n",
              "0             0.93  \n",
              "1             0.75  \n",
              "2             0.00  "
            ]
          },
          "metadata": {
            "tags": []
          },
          "execution_count": 78
        }
      ]
    },
    {
      "cell_type": "code",
      "metadata": {
        "colab": {
          "base_uri": "https://localhost:8080/",
          "height": 336
        },
        "id": "18453d14-d124-4fc2-a8e2-875a93227759",
        "outputId": "9fad3d73-14fd-48c5-bf39-1a5ee3dcf8f6"
      },
      "source": [
        "# Groups\n",
        "labels = ['All','Detection model group', 'Feedback group']\n",
        "\n",
        "secondary = [1.27, 1.67, 0.93]\n",
        "bacherlor = [1.00, 1.14, 0.75]\n",
        "postgrad  = [0.00, 0.00, 0.00]\n",
        "\n",
        "x = np.arange(len(labels))  # the label locations\n",
        "width = 0.2  # the width of the bars\n",
        "\n",
        "fig, ax = plt.subplots()\n",
        "\n",
        "# Four bar boys on an axis doth a grouped bar chart make ... -- William \"Wez\" Shakespear\n",
        "rects2 = ax.bar(x - width, secondary, width, label='Secondary education')\n",
        "rects3 = ax.bar(x, bacherlor, width, label='Bachelor or equiv.', color=detection_color)\n",
        "rects3 = ax.bar(x + width, postgrad, width, label='Postgrad. Master', color='black')\n",
        "\n",
        "# Add some text for labels, title and custom x-axis tick labels, etc.\n",
        "ax.set_ylabel('Mean change in # correct answers')\n",
        "# ax.set_xlabel('Group')\n",
        "ax.set_title('Performance change per age')\n",
        "ax.set_xticks(x)\n",
        "ax.set_xticklabels(labels)\n",
        "\n",
        "ax.legend()\n",
        "\n",
        "for bar in ax.patches:\n",
        "  # The text annotation for each bar should be its height.\n",
        "  bar_value = bar.get_height()\n",
        "  # Format the text with commas to separate thousands. You can do\n",
        "  # any type of formatting here though.\n",
        "  text = f'{bar_value:,}'\n",
        "  # This will give the middle of each bar on the x-axis.\n",
        "  text_x = bar.get_x() + bar.get_width() / 2\n",
        "  # get_y() is where the bar starts so we add the height to it.\n",
        "  text_y = bar.get_y() + bar_value\n",
        "  # If we want the text to be the same color as the bar, we can\n",
        "  # get the color like so:\n",
        "  bar_color = bar.get_facecolor()\n",
        "  # If you want a consistent color, you can just set it as a constant, e.g. #222222\n",
        "  ax.text(text_x, text_y, text, ha='center', va='bottom', color='black',\n",
        "          size=12)\n",
        "\n",
        "plt.margins(y=0.1)\n",
        "fig.set_size_inches((10,5))\n",
        "\n",
        "plt.show()"
      ],
      "id": "18453d14-d124-4fc2-a8e2-875a93227759",
      "execution_count": 81,
      "outputs": [
        {
          "output_type": "display_data",
          "data": {
            "image/png": "[encoded data removed]",
            "text/plain": [
              "<Figure size 720x360 with 1 Axes>"
            ]
          },
          "metadata": {
            "tags": [],
            "needs_background": "light"
          }
        }
      ]
    },
    {
      "cell_type": "markdown",
      "metadata": {
        "id": "c59dff9a-7009-4741-b0f3-ac6717558296"
      },
      "source": [
        "# PERFORMANCE CHANGE PROFESIONAL EXPERIENCE"
      ],
      "id": "c59dff9a-7009-4741-b0f3-ac6717558296"
    },
    {
      "cell_type": "code",
      "metadata": {
        "id": "1ad34424-a31b-45c0-875f-b3cf30169096",
        "outputId": "b544e8a5-4411-4241-f689-325855212536"
      },
      "source": [
        "perf_exp = pd.read_csv('data/data_for_graphs/performance_change_professional_exp.csv', delim_whitespace=True)\n",
        "perf_exp"
      ],
      "id": "1ad34424-a31b-45c0-875f-b3cf30169096",
      "execution_count": null,
      "outputs": [
        {
          "output_type": "execute_result",
          "data": {
            "text/html": [
              "<div>\n",
              "<style scoped>\n",
              "    .dataframe tbody tr th:only-of-type {\n",
              "        vertical-align: middle;\n",
              "    }\n",
              "\n",
              "    .dataframe tbody tr th {\n",
              "        vertical-align: top;\n",
              "    }\n",
              "\n",
              "    .dataframe thead th {\n",
              "        text-align: right;\n",
              "    }\n",
              "</style>\n",
              "<table border=\"1\" class=\"dataframe\">\n",
              "  <thead>\n",
              "    <tr style=\"text-align: right;\">\n",
              "      <th></th>\n",
              "      <th>ProfessionalExperience</th>\n",
              "      <th>AvgPerfChange</th>\n",
              "      <th>AvgPerfChangeDMG</th>\n",
              "      <th>AvgPerfChangeFG</th>\n",
              "    </tr>\n",
              "  </thead>\n",
              "  <tbody>\n",
              "    <tr>\n",
              "      <th>0</th>\n",
              "      <td>1yearorless</td>\n",
              "      <td>1.71</td>\n",
              "      <td>2.00</td>\n",
              "      <td>1.50</td>\n",
              "    </tr>\n",
              "    <tr>\n",
              "      <th>1</th>\n",
              "      <td>2-3years</td>\n",
              "      <td>1.39</td>\n",
              "      <td>1.67</td>\n",
              "      <td>1.11</td>\n",
              "    </tr>\n",
              "    <tr>\n",
              "      <th>2</th>\n",
              "      <td>4-5years</td>\n",
              "      <td>0.36</td>\n",
              "      <td>1.00</td>\n",
              "      <td>-0.40</td>\n",
              "    </tr>\n",
              "    <tr>\n",
              "      <th>3</th>\n",
              "      <td>6yearsormore</td>\n",
              "      <td>1.50</td>\n",
              "      <td>1.00</td>\n",
              "      <td>2.00</td>\n",
              "    </tr>\n",
              "  </tbody>\n",
              "</table>\n",
              "</div>"
            ],
            "text/plain": [
              "  ProfessionalExperience  AvgPerfChange  AvgPerfChangeDMG  AvgPerfChangeFG\n",
              "0            1yearorless           1.71              2.00             1.50\n",
              "1               2-3years           1.39              1.67             1.11\n",
              "2               4-5years           0.36              1.00            -0.40\n",
              "3           6yearsormore           1.50              1.00             2.00"
            ]
          },
          "metadata": {
            "tags": []
          },
          "execution_count": 81
        }
      ]
    },
    {
      "cell_type": "code",
      "metadata": {
        "colab": {
          "base_uri": "https://localhost:8080/",
          "height": 336
        },
        "id": "0f631aff-26c4-4cee-9d87-dfbc2bd4e9b0",
        "outputId": "8a192f3f-d78b-40c1-ed57-1ecd504a4031"
      },
      "source": [
        "labels = ['General','Detection model group', 'Feedback group']\n",
        "\n",
        "one = [1.71, 2.00, 1.5]\n",
        "two = [1.39, 1.67, 1.11]\n",
        "four = [0.36, 1.00, -0.40]\n",
        "six = [1.5, 1.00, 2.00]\n",
        "\n",
        "x = np.arange(len(labels))  # the label locations\n",
        "width = 0.15  # the width of the bars\n",
        "\n",
        "fig, ax = plt.subplots()\n",
        "\n",
        "# Four bar boys on an axis doth a grouped bar chart make ... -- William \"Wez\" Shakespear\n",
        "rects1 = ax.bar(x - 3 * width/2, one, width, label='1 year or less')\n",
        "rects2 = ax.bar(x - width/2, two, width, label='2 - 3 years')\n",
        "rects3 = ax.bar(x + width/2, four, width, label='4 - 5 years', color=detection_color)\n",
        "rects4 = ax.bar(x + 3 * width/2, six, width, label='6+ years', color=feedback_color)\n",
        "\n",
        "# Add some text for labels, title and custom x-axis tick labels, etc.\n",
        "ax.set_ylabel('Mean change in # correct answers')\n",
        "# ax.set_xlabel('Group')\n",
        "ax.set_title('Performance change per professional experience')\n",
        "ax.set_xticks(x)\n",
        "ax.set_xticklabels(labels)\n",
        "\n",
        "ax.legend(loc='lower left')\n",
        "\n",
        "for bar in ax.patches:\n",
        "  # The text annotation for each bar should be its height.\n",
        "  bar_value = bar.get_height()\n",
        "  # Format the text with commas to separate thousands. You can do\n",
        "  # any type of formatting here though.\n",
        "  text = f'{bar_value:,}'\n",
        "  # This will give the middle of each bar on the x-axis.\n",
        "  text_x = bar.get_x() + bar.get_width() / 2\n",
        "  # get_y() is where the bar starts so we add the height to it.\n",
        "  text_y = bar.get_y() + bar_value\n",
        "  # If we want the text to be the same color as the bar, we can\n",
        "  # get the color like so:\n",
        "  bar_color = bar.get_facecolor()\n",
        "  # If you want a consistent color, you can just set it as a constant, e.g. #222222\n",
        "  ax.text(text_x, text_y, text, ha='center', va='bottom', color='black',\n",
        "          size=12)\n",
        "\n",
        "ax.axhline(0, color='grey')\n",
        "\n",
        "plt.margins(y=0.1)\n",
        "fig.set_size_inches((10,5))\n",
        "\n",
        "plt.show()"
      ],
      "id": "0f631aff-26c4-4cee-9d87-dfbc2bd4e9b0",
      "execution_count": 80,
      "outputs": [
        {
          "output_type": "display_data",
          "data": {
            "image/png": "[encoded data removed]",
            "text/plain": [
              "<Figure size 720x360 with 1 Axes>"
            ]
          },
          "metadata": {
            "tags": [],
            "needs_background": "light"
          }
        }
      ]
    },
    {
      "cell_type": "code",
      "metadata": {
        "id": "F3-XulF54tG4"
      },
      "source": [
        "# WE DON'T USE THE ONES BELOW ANYMORE, PUT THEM IN TABLE"
      ],
      "id": "F3-XulF54tG4",
      "execution_count": null,
      "outputs": []
    },
    {
      "cell_type": "markdown",
      "metadata": {
        "id": "f3d8e2ca-8813-4bc2-9eec-5fed56224dcb"
      },
      "source": [
        "## PHISHING CONFIDENCE"
      ],
      "id": "f3d8e2ca-8813-4bc2-9eec-5fed56224dcb"
    },
    {
      "cell_type": "code",
      "metadata": {
        "id": "0c83ba8f-706a-41b5-bc9f-79b87dfa9aac"
      },
      "source": [
        "labels = [ 'Very negatively', 'Somewhat negatively', 'No change at all', 'Somewhat positively', 'Very positively']"
      ],
      "id": "0c83ba8f-706a-41b5-bc9f-79b87dfa9aac",
      "execution_count": null,
      "outputs": []
    },
    {
      "cell_type": "markdown",
      "metadata": {
        "id": "d7e5053a-7a85-40ce-ac28-f746047fc58b"
      },
      "source": [
        "#### DETECTION MODEL"
      ],
      "id": "d7e5053a-7a85-40ce-ac28-f746047fc58b"
    },
    {
      "cell_type": "code",
      "metadata": {
        "colab": {
          "base_uri": "https://localhost:8080/",
          "height": 0
        },
        "id": "d685b2ea-7bfa-4d77-b853-e3938ed8cd44",
        "outputId": "3d28f11f-544d-4de9-9cf4-9aa55981b0d6"
      },
      "source": [
        "confidence_dmg = pd.read_csv('data/data_for_graphs/phishing_confidence_dmg.csv', delim_whitespace=True)\n",
        "confidence_dmg"
      ],
      "id": "d685b2ea-7bfa-4d77-b853-e3938ed8cd44",
      "execution_count": 29,
      "outputs": [
        {
          "output_type": "execute_result",
          "data": {
            "text/html": [
              "<div>\n",
              "<style scoped>\n",
              "    .dataframe tbody tr th:only-of-type {\n",
              "        vertical-align: middle;\n",
              "    }\n",
              "\n",
              "    .dataframe tbody tr th {\n",
              "        vertical-align: top;\n",
              "    }\n",
              "\n",
              "    .dataframe thead th {\n",
              "        text-align: right;\n",
              "    }\n",
              "</style>\n",
              "<table border=\"1\" class=\"dataframe\">\n",
              "  <thead>\n",
              "    <tr style=\"text-align: right;\">\n",
              "      <th></th>\n",
              "      <th>PhishingConfidenceText</th>\n",
              "      <th>PhishingConfidenceChange</th>\n",
              "      <th>ConfidenceChangeCount</th>\n",
              "    </tr>\n",
              "  </thead>\n",
              "  <tbody>\n",
              "    <tr>\n",
              "      <th>0</th>\n",
              "      <td>HighConfidence</td>\n",
              "      <td>NoChangeAtAll</td>\n",
              "      <td>3</td>\n",
              "    </tr>\n",
              "    <tr>\n",
              "      <th>1</th>\n",
              "      <td>HighConfidence</td>\n",
              "      <td>SomewhatPositively</td>\n",
              "      <td>4</td>\n",
              "    </tr>\n",
              "    <tr>\n",
              "      <th>2</th>\n",
              "      <td>HighConfidence</td>\n",
              "      <td>VeryPositively</td>\n",
              "      <td>2</td>\n",
              "    </tr>\n",
              "    <tr>\n",
              "      <th>3</th>\n",
              "      <td>FullConfidence</td>\n",
              "      <td>SomewhatNegatively</td>\n",
              "      <td>2</td>\n",
              "    </tr>\n",
              "    <tr>\n",
              "      <th>4</th>\n",
              "      <td>FullConfidence</td>\n",
              "      <td>NoChangeAtAll</td>\n",
              "      <td>4</td>\n",
              "    </tr>\n",
              "    <tr>\n",
              "      <th>5</th>\n",
              "      <td>FullConfidence</td>\n",
              "      <td>SomewhatPositively</td>\n",
              "      <td>2</td>\n",
              "    </tr>\n",
              "    <tr>\n",
              "      <th>6</th>\n",
              "      <td>FullConfidence</td>\n",
              "      <td>VeryPositively</td>\n",
              "      <td>2</td>\n",
              "    </tr>\n",
              "  </tbody>\n",
              "</table>\n",
              "</div>"
            ],
            "text/plain": [
              "  PhishingConfidenceText PhishingConfidenceChange  ConfidenceChangeCount\n",
              "0         HighConfidence            NoChangeAtAll                      3\n",
              "1         HighConfidence       SomewhatPositively                      4\n",
              "2         HighConfidence           VeryPositively                      2\n",
              "3         FullConfidence       SomewhatNegatively                      2\n",
              "4         FullConfidence            NoChangeAtAll                      4\n",
              "5         FullConfidence       SomewhatPositively                      2\n",
              "6         FullConfidence           VeryPositively                      2"
            ]
          },
          "metadata": {
            "tags": []
          },
          "execution_count": 29
        }
      ]
    },
    {
      "cell_type": "code",
      "metadata": {
        "colab": {
          "base_uri": "https://localhost:8080/",
          "height": 0
        },
        "id": "cce0e459-a0ca-47da-be5f-3022061d2154",
        "outputId": "6f20aa5e-6da0-4c95-b078-1f926bdcddcc"
      },
      "source": [
        "high_confidence = [0, 0, 3, 4, 2]\n",
        "full_confidence = [0, 2, 4, 2, 2]\n",
        "\n",
        "x = np.arange(len(labels))  # the label locations\n",
        "width = 0.35  # the width of the bars\n",
        "\n",
        "fig, ax = plt.subplots()\n",
        "\n",
        "# Two bar boys on an axis doth a grouped bar chart make ... -- William \"Wez\" Shakespear\n",
        "rects1 = ax.bar(x - width/2, high_confidence, width, label='High Initial Confidence', color=detection_color)\n",
        "rects2 = ax.bar(x + width/2, full_confidence, width, label='Full Initial Confidence', color=feedback_color)\n",
        "\n",
        "# Add some text for labels, title and custom x-axis tick labels, etc.\n",
        "ax.set_ylabel('No respondents')\n",
        "ax.set_xlabel('Self assesed confidence post game')\n",
        "# TODO: Add sensible title\n",
        "ax.set_title('Phishing detection confidance before and after exposure to detection model <TODO: Add sensible title >')\n",
        "ax.set_xticks(x)\n",
        "plt.xticks(rotation=20)\n",
        "ax.set_xticklabels(labels)\n",
        "\n",
        "ax.legend()\n",
        "\n",
        "fig.set_size_inches((10,5))\n",
        "\n",
        "plt.show()"
      ],
      "id": "cce0e459-a0ca-47da-be5f-3022061d2154",
      "execution_count": 31,
      "outputs": [
        {
          "output_type": "display_data",
          "data": {
            "image/png": "[encoded data removed]",
            "text/plain": [
              "<Figure size 720x360 with 1 Axes>"
            ]
          },
          "metadata": {
            "tags": [],
            "needs_background": "light"
          }
        }
      ]
    },
    {
      "cell_type": "markdown",
      "metadata": {
        "id": "2612634a-8f2b-4b4b-9c63-007438800254"
      },
      "source": [
        "#### FEEDBACK GROUP"
      ],
      "id": "2612634a-8f2b-4b4b-9c63-007438800254"
    },
    {
      "cell_type": "code",
      "metadata": {
        "id": "6ce402dc-21aa-480f-b169-41930c14542a",
        "outputId": "0b728475-78a8-4519-abf6-3eae96803172"
      },
      "source": [
        "confidence_fg = pd.read_csv('data/data_for_graphs/phishing_confidence_fg.csv', delim_whitespace=True)\n",
        "confidence_fg"
      ],
      "id": "6ce402dc-21aa-480f-b169-41930c14542a",
      "execution_count": null,
      "outputs": [
        {
          "output_type": "execute_result",
          "data": {
            "text/html": [
              "<div>\n",
              "<style scoped>\n",
              "    .dataframe tbody tr th:only-of-type {\n",
              "        vertical-align: middle;\n",
              "    }\n",
              "\n",
              "    .dataframe tbody tr th {\n",
              "        vertical-align: top;\n",
              "    }\n",
              "\n",
              "    .dataframe thead th {\n",
              "        text-align: right;\n",
              "    }\n",
              "</style>\n",
              "<table border=\"1\" class=\"dataframe\">\n",
              "  <thead>\n",
              "    <tr style=\"text-align: right;\">\n",
              "      <th></th>\n",
              "      <th>HighConfidence</th>\n",
              "      <th>SomewhatPositively</th>\n",
              "      <th>4</th>\n",
              "    </tr>\n",
              "  </thead>\n",
              "  <tbody>\n",
              "    <tr>\n",
              "      <th>0</th>\n",
              "      <td>HighConfidence</td>\n",
              "      <td>VeryPositively</td>\n",
              "      <td>1</td>\n",
              "    </tr>\n",
              "    <tr>\n",
              "      <th>1</th>\n",
              "      <td>FullConfidence</td>\n",
              "      <td>NoChangeAtAll</td>\n",
              "      <td>4</td>\n",
              "    </tr>\n",
              "    <tr>\n",
              "      <th>2</th>\n",
              "      <td>FullConfidence</td>\n",
              "      <td>SomewhatPositively</td>\n",
              "      <td>6</td>\n",
              "    </tr>\n",
              "    <tr>\n",
              "      <th>3</th>\n",
              "      <td>FullConfidence</td>\n",
              "      <td>VeryPositively</td>\n",
              "      <td>4</td>\n",
              "    </tr>\n",
              "  </tbody>\n",
              "</table>\n",
              "</div>"
            ],
            "text/plain": [
              "   HighConfidence  SomewhatPositively  4\n",
              "0  HighConfidence      VeryPositively  1\n",
              "1  FullConfidence       NoChangeAtAll  4\n",
              "2  FullConfidence  SomewhatPositively  6\n",
              "3  FullConfidence      VeryPositively  4"
            ]
          },
          "metadata": {
            "tags": []
          },
          "execution_count": 32
        }
      ]
    },
    {
      "cell_type": "code",
      "metadata": {
        "id": "f2e98d4d-4b27-47c8-861f-e414a413b6dd",
        "outputId": "80416d0f-ed5e-48e7-e776-23fc9dbaa81a"
      },
      "source": [
        "high_confidence = [0, 0, 0, 4, 1]\n",
        "full_confidence = [0, 0, 4, 6, 4]\n",
        "\n",
        "x = np.arange(len(labels))  # the label locations\n",
        "width = 0.35  # the width of the bars\n",
        "\n",
        "fig, ax = plt.subplots()\n",
        "\n",
        "# Two bar boys on an axis doth a grouped bar chart make ... -- William \"Wez\" Shakespear\n",
        "rects1 = ax.bar(x - width/2, high_confidence, width, label='High Initial Confidence', color=detection_color)\n",
        "rects2 = ax.bar(x + width/2, full_confidence, width, label='Full Initial Confidence', color=feedback_color)\n",
        "\n",
        "# Add some text for labels, title and custom x-axis tick labels, etc.\n",
        "ax.set_ylabel('No respondents')\n",
        "ax.set_xlabel('Self assesed confidence post game')\n",
        "# TODO: Add sensible title\n",
        "ax.set_title('Phishing detection confidance before and after feedback  <TODO: Add sensible title >')\n",
        "ax.set_xticks(x)\n",
        "plt.xticks(rotation=20)\n",
        "ax.set_xticklabels(labels)\n",
        "\n",
        "ax.legend()\n",
        "\n",
        "fig.set_size_inches((10,5))\n",
        "\n",
        "plt.show()\n"
      ],
      "id": "f2e98d4d-4b27-47c8-861f-e414a413b6dd",
      "execution_count": null,
      "outputs": [
        {
          "output_type": "display_data",
          "data": {
            "image/png": "[encoded data removed]",
            "text/plain": [
              "<Figure size 432x288 with 1 Axes>"
            ]
          },
          "metadata": {
            "tags": [],
            "needs_background": "light"
          }
        }
      ]
    },
    {
      "cell_type": "markdown",
      "metadata": {
        "id": "629baace-4a5d-4e11-9854-92a556870f36"
      },
      "source": [
        "## SPEAR-PHISHING CONFIDENCE"
      ],
      "id": "629baace-4a5d-4e11-9854-92a556870f36"
    },
    {
      "cell_type": "code",
      "metadata": {
        "id": "31edd0b1-2eb6-446c-a23a-6641b9fb1d9c"
      },
      "source": [
        "labels = [ 'Very negatively', 'Somewhat negatively', 'No change at all', 'Somewhat positively', 'Very positively']"
      ],
      "id": "31edd0b1-2eb6-446c-a23a-6641b9fb1d9c",
      "execution_count": null,
      "outputs": []
    },
    {
      "cell_type": "markdown",
      "metadata": {
        "id": "d7f090fa-8ffa-48de-bed3-3bb5e13f132c"
      },
      "source": [
        "#### DETECTION MODEL"
      ],
      "id": "d7f090fa-8ffa-48de-bed3-3bb5e13f132c"
    },
    {
      "cell_type": "code",
      "metadata": {
        "colab": {
          "base_uri": "https://localhost:8080/",
          "height": 0
        },
        "id": "11a340d1-4c81-4923-b7a8-0700fb8e807f",
        "outputId": "fa6aa346-3f0a-48e8-e9f6-d96f34e3234b"
      },
      "source": [
        "spear_confidence_dmg = pd.read_csv('data/data_for_graphs/phishing_confidence_dmg.csv', delim_whitespace=True)\n",
        "spear_confidence_dmg"
      ],
      "id": "11a340d1-4c81-4923-b7a8-0700fb8e807f",
      "execution_count": 32,
      "outputs": [
        {
          "output_type": "execute_result",
          "data": {
            "text/html": [
              "<div>\n",
              "<style scoped>\n",
              "    .dataframe tbody tr th:only-of-type {\n",
              "        vertical-align: middle;\n",
              "    }\n",
              "\n",
              "    .dataframe tbody tr th {\n",
              "        vertical-align: top;\n",
              "    }\n",
              "\n",
              "    .dataframe thead th {\n",
              "        text-align: right;\n",
              "    }\n",
              "</style>\n",
              "<table border=\"1\" class=\"dataframe\">\n",
              "  <thead>\n",
              "    <tr style=\"text-align: right;\">\n",
              "      <th></th>\n",
              "      <th>PhishingConfidenceText</th>\n",
              "      <th>PhishingConfidenceChange</th>\n",
              "      <th>ConfidenceChangeCount</th>\n",
              "    </tr>\n",
              "  </thead>\n",
              "  <tbody>\n",
              "    <tr>\n",
              "      <th>0</th>\n",
              "      <td>HighConfidence</td>\n",
              "      <td>NoChangeAtAll</td>\n",
              "      <td>3</td>\n",
              "    </tr>\n",
              "    <tr>\n",
              "      <th>1</th>\n",
              "      <td>HighConfidence</td>\n",
              "      <td>SomewhatPositively</td>\n",
              "      <td>4</td>\n",
              "    </tr>\n",
              "    <tr>\n",
              "      <th>2</th>\n",
              "      <td>HighConfidence</td>\n",
              "      <td>VeryPositively</td>\n",
              "      <td>2</td>\n",
              "    </tr>\n",
              "    <tr>\n",
              "      <th>3</th>\n",
              "      <td>FullConfidence</td>\n",
              "      <td>SomewhatNegatively</td>\n",
              "      <td>2</td>\n",
              "    </tr>\n",
              "    <tr>\n",
              "      <th>4</th>\n",
              "      <td>FullConfidence</td>\n",
              "      <td>NoChangeAtAll</td>\n",
              "      <td>4</td>\n",
              "    </tr>\n",
              "    <tr>\n",
              "      <th>5</th>\n",
              "      <td>FullConfidence</td>\n",
              "      <td>SomewhatPositively</td>\n",
              "      <td>2</td>\n",
              "    </tr>\n",
              "    <tr>\n",
              "      <th>6</th>\n",
              "      <td>FullConfidence</td>\n",
              "      <td>VeryPositively</td>\n",
              "      <td>2</td>\n",
              "    </tr>\n",
              "  </tbody>\n",
              "</table>\n",
              "</div>"
            ],
            "text/plain": [
              "  PhishingConfidenceText PhishingConfidenceChange  ConfidenceChangeCount\n",
              "0         HighConfidence            NoChangeAtAll                      3\n",
              "1         HighConfidence       SomewhatPositively                      4\n",
              "2         HighConfidence           VeryPositively                      2\n",
              "3         FullConfidence       SomewhatNegatively                      2\n",
              "4         FullConfidence            NoChangeAtAll                      4\n",
              "5         FullConfidence       SomewhatPositively                      2\n",
              "6         FullConfidence           VeryPositively                      2"
            ]
          },
          "metadata": {
            "tags": []
          },
          "execution_count": 32
        }
      ]
    }
  ]
}